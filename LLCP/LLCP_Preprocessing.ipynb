{
 "cells": [
  {
   "cell_type": "markdown",
   "metadata": {},
   "source": [
    "## Importing necessary libraries and reading "
   ]
  },
  {
   "cell_type": "code",
   "execution_count": 16,
   "metadata": {},
   "outputs": [],
   "source": [
    "import pandas as pd\n",
    "import numpy as np\n",
    "import matplotlib.pyplot as plt\n"
   ]
  },
  {
   "cell_type": "code",
   "execution_count": 2,
   "metadata": {},
   "outputs": [
    {
     "data": {
      "text/plain": [
       "(401958, 279)"
      ]
     },
     "execution_count": 2,
     "metadata": {},
     "output_type": "execute_result"
    }
   ],
   "source": [
    "df = pd.read_sas('/home/arun/HPCC-covid19/LLCP/LLCP2020.XPT')\n",
    "df.shape"
   ]
  },
  {
   "cell_type": "code",
   "execution_count": 3,
   "metadata": {},
   "outputs": [
    {
     "data": {
      "text/html": [
       "<div>\n",
       "<style scoped>\n",
       "    .dataframe tbody tr th:only-of-type {\n",
       "        vertical-align: middle;\n",
       "    }\n",
       "\n",
       "    .dataframe tbody tr th {\n",
       "        vertical-align: top;\n",
       "    }\n",
       "\n",
       "    .dataframe thead th {\n",
       "        text-align: right;\n",
       "    }\n",
       "</style>\n",
       "<table border=\"1\" class=\"dataframe\">\n",
       "  <thead>\n",
       "    <tr style=\"text-align: right;\">\n",
       "      <th></th>\n",
       "      <th>_STATE</th>\n",
       "      <th>FMONTH</th>\n",
       "      <th>IDATE</th>\n",
       "      <th>IMONTH</th>\n",
       "      <th>IDAY</th>\n",
       "      <th>IYEAR</th>\n",
       "      <th>DISPCODE</th>\n",
       "      <th>SEQNO</th>\n",
       "      <th>_PSU</th>\n",
       "      <th>CTELENM1</th>\n",
       "      <th>...</th>\n",
       "      <th>_RFPSA23</th>\n",
       "      <th>_CLNSCPY</th>\n",
       "      <th>_SGMSCPY</th>\n",
       "      <th>_SGMS10Y</th>\n",
       "      <th>_RFBLDS4</th>\n",
       "      <th>_STOLDNA</th>\n",
       "      <th>_VIRCOLN</th>\n",
       "      <th>_SBONTIM</th>\n",
       "      <th>_CRCREC1</th>\n",
       "      <th>_AIDTST4</th>\n",
       "    </tr>\n",
       "  </thead>\n",
       "  <tbody>\n",
       "    <tr>\n",
       "      <th>0</th>\n",
       "      <td>1.0</td>\n",
       "      <td>1.0</td>\n",
       "      <td>b'01042020'</td>\n",
       "      <td>b'01'</td>\n",
       "      <td>b'04'</td>\n",
       "      <td>b'2020'</td>\n",
       "      <td>1100.0</td>\n",
       "      <td>b'2020000001'</td>\n",
       "      <td>2.020000e+09</td>\n",
       "      <td>1.0</td>\n",
       "      <td>...</td>\n",
       "      <td>NaN</td>\n",
       "      <td>1.0</td>\n",
       "      <td>3.0</td>\n",
       "      <td>3.0</td>\n",
       "      <td>3.0</td>\n",
       "      <td>3.0</td>\n",
       "      <td>3.0</td>\n",
       "      <td>3.0</td>\n",
       "      <td>1.0</td>\n",
       "      <td>1.0</td>\n",
       "    </tr>\n",
       "    <tr>\n",
       "      <th>1</th>\n",
       "      <td>1.0</td>\n",
       "      <td>1.0</td>\n",
       "      <td>b'02072020'</td>\n",
       "      <td>b'02'</td>\n",
       "      <td>b'07'</td>\n",
       "      <td>b'2020'</td>\n",
       "      <td>1200.0</td>\n",
       "      <td>b'2020000002'</td>\n",
       "      <td>2.020000e+09</td>\n",
       "      <td>1.0</td>\n",
       "      <td>...</td>\n",
       "      <td>NaN</td>\n",
       "      <td>NaN</td>\n",
       "      <td>NaN</td>\n",
       "      <td>NaN</td>\n",
       "      <td>NaN</td>\n",
       "      <td>NaN</td>\n",
       "      <td>NaN</td>\n",
       "      <td>2.0</td>\n",
       "      <td>NaN</td>\n",
       "      <td>NaN</td>\n",
       "    </tr>\n",
       "    <tr>\n",
       "      <th>2</th>\n",
       "      <td>1.0</td>\n",
       "      <td>1.0</td>\n",
       "      <td>b'01232020'</td>\n",
       "      <td>b'01'</td>\n",
       "      <td>b'23'</td>\n",
       "      <td>b'2020'</td>\n",
       "      <td>1100.0</td>\n",
       "      <td>b'2020000003'</td>\n",
       "      <td>2.020000e+09</td>\n",
       "      <td>1.0</td>\n",
       "      <td>...</td>\n",
       "      <td>NaN</td>\n",
       "      <td>1.0</td>\n",
       "      <td>3.0</td>\n",
       "      <td>3.0</td>\n",
       "      <td>3.0</td>\n",
       "      <td>3.0</td>\n",
       "      <td>3.0</td>\n",
       "      <td>3.0</td>\n",
       "      <td>1.0</td>\n",
       "      <td>2.0</td>\n",
       "    </tr>\n",
       "    <tr>\n",
       "      <th>3</th>\n",
       "      <td>1.0</td>\n",
       "      <td>1.0</td>\n",
       "      <td>b'01092020'</td>\n",
       "      <td>b'01'</td>\n",
       "      <td>b'09'</td>\n",
       "      <td>b'2020'</td>\n",
       "      <td>1100.0</td>\n",
       "      <td>b'2020000004'</td>\n",
       "      <td>2.020000e+09</td>\n",
       "      <td>1.0</td>\n",
       "      <td>...</td>\n",
       "      <td>NaN</td>\n",
       "      <td>NaN</td>\n",
       "      <td>NaN</td>\n",
       "      <td>NaN</td>\n",
       "      <td>NaN</td>\n",
       "      <td>NaN</td>\n",
       "      <td>NaN</td>\n",
       "      <td>NaN</td>\n",
       "      <td>NaN</td>\n",
       "      <td>2.0</td>\n",
       "    </tr>\n",
       "    <tr>\n",
       "      <th>4</th>\n",
       "      <td>1.0</td>\n",
       "      <td>1.0</td>\n",
       "      <td>b'01042020'</td>\n",
       "      <td>b'01'</td>\n",
       "      <td>b'04'</td>\n",
       "      <td>b'2020'</td>\n",
       "      <td>1100.0</td>\n",
       "      <td>b'2020000005'</td>\n",
       "      <td>2.020000e+09</td>\n",
       "      <td>1.0</td>\n",
       "      <td>...</td>\n",
       "      <td>NaN</td>\n",
       "      <td>NaN</td>\n",
       "      <td>NaN</td>\n",
       "      <td>NaN</td>\n",
       "      <td>NaN</td>\n",
       "      <td>NaN</td>\n",
       "      <td>NaN</td>\n",
       "      <td>NaN</td>\n",
       "      <td>NaN</td>\n",
       "      <td>9.0</td>\n",
       "    </tr>\n",
       "  </tbody>\n",
       "</table>\n",
       "<p>5 rows × 279 columns</p>\n",
       "</div>"
      ],
      "text/plain": [
       "   _STATE  FMONTH        IDATE IMONTH   IDAY    IYEAR  DISPCODE  \\\n",
       "0     1.0     1.0  b'01042020'  b'01'  b'04'  b'2020'    1100.0   \n",
       "1     1.0     1.0  b'02072020'  b'02'  b'07'  b'2020'    1200.0   \n",
       "2     1.0     1.0  b'01232020'  b'01'  b'23'  b'2020'    1100.0   \n",
       "3     1.0     1.0  b'01092020'  b'01'  b'09'  b'2020'    1100.0   \n",
       "4     1.0     1.0  b'01042020'  b'01'  b'04'  b'2020'    1100.0   \n",
       "\n",
       "           SEQNO          _PSU  CTELENM1  ...  _RFPSA23  _CLNSCPY  _SGMSCPY  \\\n",
       "0  b'2020000001'  2.020000e+09       1.0  ...       NaN       1.0       3.0   \n",
       "1  b'2020000002'  2.020000e+09       1.0  ...       NaN       NaN       NaN   \n",
       "2  b'2020000003'  2.020000e+09       1.0  ...       NaN       1.0       3.0   \n",
       "3  b'2020000004'  2.020000e+09       1.0  ...       NaN       NaN       NaN   \n",
       "4  b'2020000005'  2.020000e+09       1.0  ...       NaN       NaN       NaN   \n",
       "\n",
       "   _SGMS10Y  _RFBLDS4  _STOLDNA  _VIRCOLN  _SBONTIM  _CRCREC1  _AIDTST4  \n",
       "0       3.0       3.0       3.0       3.0       3.0       1.0       1.0  \n",
       "1       NaN       NaN       NaN       NaN       2.0       NaN       NaN  \n",
       "2       3.0       3.0       3.0       3.0       3.0       1.0       2.0  \n",
       "3       NaN       NaN       NaN       NaN       NaN       NaN       2.0  \n",
       "4       NaN       NaN       NaN       NaN       NaN       NaN       9.0  \n",
       "\n",
       "[5 rows x 279 columns]"
      ]
     },
     "execution_count": 3,
     "metadata": {},
     "output_type": "execute_result"
    }
   ],
   "source": [
    "df.head()"
   ]
  },
  {
   "cell_type": "code",
   "execution_count": 4,
   "metadata": {},
   "outputs": [
    {
     "name": "stdout",
     "output_type": "stream",
     "text": [
      "original size (401958, 279)\n",
      "after removing columns with null values (401958, 50)\n",
      "after removing rows and columns with null values (401958, 50)\n",
      "after removing only rows with null values (0, 279)\n"
     ]
    }
   ],
   "source": [
    "# check for null values of each column and print the count\n",
    "dfna1 = df.dropna(axis=1)\n",
    "dfna2 = dfna1.dropna(axis=0)\n",
    "dfna3 = df.dropna(axis=0)\n",
    "\n",
    "print(\"original size\", df.shape)\n",
    "print(\"after removing columns with null values\", dfna1.shape)\n",
    "print(\"after removing rows and columns with null values\", dfna2.shape)\n",
    "print(\"after removing only rows with null values\", dfna3.shape)\n",
    "\n",
    "# Out of 279, 229 columns have null values.\n",
    "# it can be seen that each row has one or more null values."
   ]
  },
  {
   "cell_type": "code",
   "execution_count": 5,
   "metadata": {},
   "outputs": [
    {
     "data": {
      "text/plain": [
       "Index(['_STATE', 'FMONTH', 'IDATE', 'IMONTH', 'IDAY', 'IYEAR', 'DISPCODE',\n",
       "       'SEQNO', '_PSU', 'SEXVAR', 'QSTVER', 'QSTLANG', '_STSTR', '_STRWT',\n",
       "       '_RAWRAKE', '_WT2RAKE', '_IMPRACE', '_DUALUSE', '_LLCPWT2', '_LLCPWT',\n",
       "       '_RFHLTH', '_PHYS14D', '_MENT14D', '_HCVU651', '_TOTINDA', '_LTASTH1',\n",
       "       '_CASTHM1', '_ASTHMS1', '_EXTETH3', '_DENVST3', '_HISPANC', '_SEX',\n",
       "       '_AGEG5YR', '_AGE65YR', '_AGE80', '_AGE_G', '_RFBMI5', '_CHLDCNT',\n",
       "       '_EDUCAG', '_INCOMG', '_SMOKER3', '_RFSMOK3', 'DRNKANY5', 'DROCDY3_',\n",
       "       '_RFBING5', '_DRNKWK1', '_RFDRHV7', '_RFSEAT2', '_RFSEAT3', '_DRNKDRV'],\n",
       "      dtype='object')"
      ]
     },
     "execution_count": 5,
     "metadata": {},
     "output_type": "execute_result"
    }
   ],
   "source": [
    "# columns without any null values\n",
    "dfna1.columns\n",
    "\n",
    "# I will not be using dfna1, dfna2, dfna3 for future analysis, as it has removed some important columns."
   ]
  },
  {
   "cell_type": "markdown",
   "metadata": {},
   "source": [
    "# Choosing variables"
   ]
  },
  {
   "cell_type": "code",
   "execution_count": 6,
   "metadata": {},
   "outputs": [
    {
     "name": "stdout",
     "output_type": "stream",
     "text": [
      "2.0 <class 'numpy.float64'>\n",
      "1.0 <class 'numpy.float64'>\n"
     ]
    }
   ],
   "source": [
    "# print all the unique values of 'sexvar' column\n",
    "for i in df['SEXVAR'].unique():\n",
    "    print(i, type(i))"
   ]
  },
  {
   "cell_type": "code",
   "execution_count": 7,
   "metadata": {},
   "outputs": [
    {
     "data": {
      "text/plain": [
       "['_STATE',\n",
       " 'FMONTH',\n",
       " 'IDATE',\n",
       " 'IMONTH',\n",
       " 'IDAY',\n",
       " 'IYEAR',\n",
       " 'DISPCODE',\n",
       " 'SEQNO',\n",
       " '_PSU',\n",
       " 'CTELENM1',\n",
       " 'PVTRESD1',\n",
       " 'COLGHOUS',\n",
       " 'STATERE1',\n",
       " 'CELPHONE',\n",
       " 'LADULT1',\n",
       " 'COLGSEX',\n",
       " 'NUMADULT',\n",
       " 'LANDSEX',\n",
       " 'NUMMEN',\n",
       " 'NUMWOMEN',\n",
       " 'RESPSLCT',\n",
       " 'SAFETIME',\n",
       " 'CTELNUM1',\n",
       " 'CELLFON5',\n",
       " 'CADULT1',\n",
       " 'CELLSEX',\n",
       " 'PVTRESD3',\n",
       " 'CCLGHOUS',\n",
       " 'CSTATE1',\n",
       " 'LANDLINE',\n",
       " 'HHADULT',\n",
       " 'SEXVAR',\n",
       " 'GENHLTH',\n",
       " 'PHYSHLTH',\n",
       " 'MENTHLTH',\n",
       " 'POORHLTH',\n",
       " 'HLTHPLN1',\n",
       " 'PERSDOC2',\n",
       " 'MEDCOST',\n",
       " 'CHECKUP1',\n",
       " 'EXERANY2',\n",
       " 'SLEPTIM1',\n",
       " 'CVDINFR4',\n",
       " 'CVDCRHD4',\n",
       " 'CVDSTRK3',\n",
       " 'ASTHMA3',\n",
       " 'ASTHNOW',\n",
       " 'CHCSCNCR',\n",
       " 'CHCOCNCR',\n",
       " 'CHCCOPD2',\n",
       " 'HAVARTH4',\n",
       " 'ADDEPEV3',\n",
       " 'CHCKDNY2',\n",
       " 'DIABETE4',\n",
       " 'DIABAGE3',\n",
       " 'LASTDEN4',\n",
       " 'RMVTETH4',\n",
       " 'MARITAL',\n",
       " 'EDUCA',\n",
       " 'RENTHOM1',\n",
       " 'NUMHHOL3',\n",
       " 'NUMPHON3',\n",
       " 'CPDEMO1B',\n",
       " 'VETERAN3',\n",
       " 'EMPLOY1',\n",
       " 'CHILDREN',\n",
       " 'INCOME2',\n",
       " 'PREGNANT',\n",
       " 'WEIGHT2',\n",
       " 'HEIGHT3',\n",
       " 'DEAF',\n",
       " 'BLIND',\n",
       " 'DECIDE',\n",
       " 'DIFFWALK',\n",
       " 'DIFFDRES',\n",
       " 'DIFFALON',\n",
       " 'SMOKE100',\n",
       " 'SMOKDAY2',\n",
       " 'STOPSMK2',\n",
       " 'LASTSMK2',\n",
       " 'USENOW3',\n",
       " 'ALCDAY5',\n",
       " 'AVEDRNK3',\n",
       " 'DRNK3GE5',\n",
       " 'MAXDRNKS',\n",
       " 'FLUSHOT7',\n",
       " 'FLSHTMY3',\n",
       " 'SHINGLE2',\n",
       " 'PNEUVAC4',\n",
       " 'FALL12MN',\n",
       " 'FALLINJ4',\n",
       " 'SEATBELT',\n",
       " 'DRNKDRI2',\n",
       " 'HADMAM',\n",
       " 'HOWLONG',\n",
       " 'HADPAP2',\n",
       " 'LASTPAP2',\n",
       " 'HPVTEST',\n",
       " 'HPLSTTST',\n",
       " 'HADHYST2',\n",
       " 'PCPSAAD3',\n",
       " 'PCPSADI1',\n",
       " 'PCPSARE1',\n",
       " 'PSATEST1',\n",
       " 'PSATIME',\n",
       " 'PCPSARS1',\n",
       " 'COLNSCPY',\n",
       " 'COLNTEST',\n",
       " 'SIGMSCPY',\n",
       " 'SIGMTEST',\n",
       " 'BLDSTOL1',\n",
       " 'LSTBLDS4',\n",
       " 'STOOLDNA',\n",
       " 'SDNATEST',\n",
       " 'VIRCOLON',\n",
       " 'VCLNTEST',\n",
       " 'HIVTST7',\n",
       " 'HIVTSTD3',\n",
       " 'HIVRISK5',\n",
       " 'PDIABTST',\n",
       " 'PREDIAB1',\n",
       " 'INSULIN1',\n",
       " 'BLDSUGAR',\n",
       " 'FEETCHK3',\n",
       " 'DOCTDIAB',\n",
       " 'CHKHEMO3',\n",
       " 'FEETCHK',\n",
       " 'EYEEXAM1',\n",
       " 'DIABEYE',\n",
       " 'DIABEDU',\n",
       " 'TOLDCFS',\n",
       " 'HAVECFS',\n",
       " 'WORKCFS',\n",
       " 'TOLDHEPC',\n",
       " 'TRETHEPC',\n",
       " 'PRIRHEPC',\n",
       " 'HAVEHEPC',\n",
       " 'HAVEHEPB',\n",
       " 'MEDSHEPB',\n",
       " 'HLTHCVR1',\n",
       " 'CIMEMLOS',\n",
       " 'CDHOUSE',\n",
       " 'CDASSIST',\n",
       " 'CDHELP',\n",
       " 'CDSOCIAL',\n",
       " 'CDDISCUS',\n",
       " 'CAREGIV1',\n",
       " 'CRGVREL4',\n",
       " 'CRGVLNG1',\n",
       " 'CRGVHRS1',\n",
       " 'CRGVPRB3',\n",
       " 'CRGVALZD',\n",
       " 'CRGVPER1',\n",
       " 'CRGVHOU1',\n",
       " 'CRGVEXPT',\n",
       " 'ECIGARET',\n",
       " 'ECIGNOW',\n",
       " 'MARIJAN1',\n",
       " 'USEMRJN2',\n",
       " 'RSNMRJN1',\n",
       " 'LCSFIRST',\n",
       " 'LCSLAST',\n",
       " 'LCSNUMCG',\n",
       " 'LCSCTSCN',\n",
       " 'CNCRDIFF',\n",
       " 'CNCRAGE',\n",
       " 'CNCRTYP1',\n",
       " 'CSRVTRT3',\n",
       " 'CSRVDOC1',\n",
       " 'CSRVSUM',\n",
       " 'CSRVRTRN',\n",
       " 'CSRVINST',\n",
       " 'CSRVINSR',\n",
       " 'CSRVDEIN',\n",
       " 'CSRVCLIN',\n",
       " 'CSRVPAIN',\n",
       " 'CSRVCTL2',\n",
       " 'PCPSADE1',\n",
       " 'PCDMDEC1',\n",
       " 'HPVADVC4',\n",
       " 'HPVADSHT',\n",
       " 'TETANUS1',\n",
       " 'IMFVPLA1',\n",
       " 'BIRTHSEX',\n",
       " 'SOMALE',\n",
       " 'SOFEMALE',\n",
       " 'TRNSGNDR',\n",
       " 'ACEDEPRS',\n",
       " 'ACEDRINK',\n",
       " 'ACEDRUGS',\n",
       " 'ACEPRISN',\n",
       " 'ACEDIVRC',\n",
       " 'ACEPUNCH',\n",
       " 'ACEHURT1',\n",
       " 'ACESWEAR',\n",
       " 'ACETOUCH',\n",
       " 'ACETTHEM',\n",
       " 'ACEHVSEX',\n",
       " 'RCSGENDR',\n",
       " 'RCSRLTN2',\n",
       " 'CASTHDX2',\n",
       " 'CASTHNO2',\n",
       " 'QSTVER',\n",
       " 'QSTLANG',\n",
       " '_METSTAT',\n",
       " '_URBSTAT',\n",
       " 'MSCODE',\n",
       " '_STSTR',\n",
       " '_STRWT',\n",
       " '_RAWRAKE',\n",
       " '_WT2RAKE',\n",
       " '_IMPRACE',\n",
       " '_CHISPNC',\n",
       " '_CRACE1',\n",
       " '_CPRACE',\n",
       " '_CLLCPWT',\n",
       " '_DUALUSE',\n",
       " '_DUALCOR',\n",
       " '_LLCPWT2',\n",
       " '_LLCPWT',\n",
       " '_RFHLTH',\n",
       " '_PHYS14D',\n",
       " '_MENT14D',\n",
       " '_HCVU651',\n",
       " '_TOTINDA',\n",
       " '_MICHD',\n",
       " '_LTASTH1',\n",
       " '_CASTHM1',\n",
       " '_ASTHMS1',\n",
       " '_DRDXAR2',\n",
       " '_EXTETH3',\n",
       " '_ALTETH3',\n",
       " '_DENVST3',\n",
       " '_PRACE1',\n",
       " '_MRACE1',\n",
       " '_HISPANC',\n",
       " '_RACE',\n",
       " '_RACEG21',\n",
       " '_RACEGR3',\n",
       " '_RACEPRV',\n",
       " '_SEX',\n",
       " '_AGEG5YR',\n",
       " '_AGE65YR',\n",
       " '_AGE80',\n",
       " '_AGE_G',\n",
       " 'HTIN4',\n",
       " 'HTM4',\n",
       " 'WTKG3',\n",
       " '_BMI5',\n",
       " '_BMI5CAT',\n",
       " '_RFBMI5',\n",
       " '_CHLDCNT',\n",
       " '_EDUCAG',\n",
       " '_INCOMG',\n",
       " '_SMOKER3',\n",
       " '_RFSMOK3',\n",
       " 'DRNKANY5',\n",
       " 'DROCDY3_',\n",
       " '_RFBING5',\n",
       " '_DRNKWK1',\n",
       " '_RFDRHV7',\n",
       " '_FLSHOT7',\n",
       " '_PNEUMO3',\n",
       " '_RFSEAT2',\n",
       " '_RFSEAT3',\n",
       " '_DRNKDRV',\n",
       " '_RFMAM22',\n",
       " '_MAM5023',\n",
       " '_RFPAP35',\n",
       " '_RFPSA23',\n",
       " '_CLNSCPY',\n",
       " '_SGMSCPY',\n",
       " '_SGMS10Y',\n",
       " '_RFBLDS4',\n",
       " '_STOLDNA',\n",
       " '_VIRCOLN',\n",
       " '_SBONTIM',\n",
       " '_CRCREC1',\n",
       " '_AIDTST4']"
      ]
     },
     "execution_count": 7,
     "metadata": {},
     "output_type": "execute_result"
    }
   ],
   "source": [
    "cols = list(df.columns)\n",
    "cols"
   ]
  },
  {
   "cell_type": "code",
   "execution_count": 8,
   "metadata": {},
   "outputs": [
    {
     "name": "stdout",
     "output_type": "stream",
     "text": [
      "DIABAGE3\n",
      "WEIGHT2\n",
      "HEIGHT3\n",
      "CNCRAGE\n",
      "_AGEG5YR\n",
      "_AGE65YR\n",
      "_AGE80\n",
      "_AGE_G\n"
     ]
    }
   ],
   "source": [
    "# To check for the presence of AGE, HEIGHT, and WEIGHT columns in the dataframe\n",
    "for col in cols:\n",
    "    if 'AGE' in col or 'WEIGHT' in col or 'HEIGHT' in col:\n",
    "        print(col)"
   ]
  },
  {
   "cell_type": "code",
   "execution_count": 9,
   "metadata": {},
   "outputs": [],
   "source": [
    "# Reported Gender (1 male, 2 female),Weight in pounds <= 776, Height in inches [36,95], \n",
    "#_AGE_G -- 1:18-24, 2:25-34, 3:35-44, 4:45-54, 5:55-64,6:>65\n",
    "#_AGE80 -- Seems to be actual age\n",
    "goodVars = ['SEXVAR', 'WEIGHT2','HTIN4', '_AGE_G', '_AGE80']"
   ]
  },
  {
   "cell_type": "code",
   "execution_count": 11,
   "metadata": {},
   "outputs": [],
   "source": [
    "df2 = df[np.logical_and(df.SEXVAR.isin([1,2]), df.WEIGHT2 < 776)]\n",
    "df2 = df2[np.logical_and(df2.HTIN4 >= 36, df2.HTIN4 <= 95)]"
   ]
  },
  {
   "cell_type": "code",
   "execution_count": 12,
   "metadata": {},
   "outputs": [
    {
     "name": "stdout",
     "output_type": "stream",
     "text": [
      "(401958, 279) (360186, 279)\n"
     ]
    }
   ],
   "source": [
    "print(df.shape, df2.shape)"
   ]
  },
  {
   "cell_type": "code",
   "execution_count": 76,
   "metadata": {},
   "outputs": [],
   "source": [
    "df2 = df2.query('SEXVAR.isin([1,2]) & WEIGHT2 < 776 & HTIN4 >= 36 & HTIN4 <= 95 & _AGE_G >= 1 & _AGE_G <= 6 & GENHLTH >=1 & GENHLTH <= 5 & INCOME2 <= 8 & INCOME2 >= 1 & DROCDY3_ <= 900 & _BMI5 >= 1 & _BMI5 <= 9999')"
   ]
  },
  {
   "cell_type": "code",
   "execution_count": 15,
   "metadata": {},
   "outputs": [
    {
     "name": "stdout",
     "output_type": "stream",
     "text": [
      "(401958, 279) (360186, 279)\n"
     ]
    }
   ],
   "source": [
    "print(df.shape, df2.shape)"
   ]
  },
  {
   "cell_type": "code",
   "execution_count": 77,
   "metadata": {},
   "outputs": [
    {
     "name": "stdout",
     "output_type": "stream",
     "text": [
      "(401958, 279) (291806, 279)\n"
     ]
    }
   ],
   "source": [
    "print(df.shape, df2.shape)"
   ]
  },
  {
   "cell_type": "markdown",
   "metadata": {},
   "source": [
    "# Playground"
   ]
  },
  {
   "cell_type": "code",
   "execution_count": 82,
   "metadata": {},
   "outputs": [
    {
     "name": "stdout",
     "output_type": "stream",
     "text": [
      "count    291806.000000\n",
      "mean          3.355202\n",
      "std           1.038099\n",
      "min           1.000000\n",
      "25%           3.000000\n",
      "50%           4.000000\n",
      "75%           4.000000\n",
      "max           9.000000\n",
      "Name: _SMOKER3, dtype: float64\n",
      "\n",
      "unique values: [1. 2. 3. 4. 9.]\n",
      "\n",
      "null values: 0 0\n"
     ]
    },
    {
     "data": {
      "text/plain": [
       "1.0     30480\n",
       "2.0     11330\n",
       "3.0     81071\n",
       "4.0    167522\n",
       "9.0      1403\n",
       "Name: _SMOKER3, dtype: int64"
      ]
     },
     "execution_count": 82,
     "metadata": {},
     "output_type": "execute_result"
    }
   ],
   "source": [
    "var = '_SMOKER3'\n",
    "\n",
    "print(df2[var].describe())\n",
    "print(\"\\nunique values:\",np.sort(list(df2[var].unique())))\n",
    "print(\"\\nnull values:\",df2[var].isna().sum(), df2[var].isnull().sum())\n",
    "df2[var].value_counts().sort_index()\n"
   ]
  },
  {
   "cell_type": "code",
   "execution_count": 83,
   "metadata": {},
   "outputs": [
    {
     "data": {
      "text/plain": [
       "never          167522\n",
       "former          81071\n",
       "everyday        30480\n",
       "occassional     11330\n",
       "unknown          1403\n",
       "Name: smoker, dtype: int64"
      ]
     },
     "execution_count": 83,
     "metadata": {},
     "output_type": "execute_result"
    }
   ],
   "source": [
    "dfTemp = pd.DataFrame()\n",
    "smokerMap = {1:'everyday', 2: 'occassional', 3: 'former', 4: 'never', 9: 'unknown'}\n",
    "\n",
    "dfTemp['smoker'] = df2['_SMOKER3'].map(smokerMap)\n",
    "dfTemp['smoker'].value_counts()\n"
   ]
  },
  {
   "cell_type": "code",
   "execution_count": null,
   "metadata": {},
   "outputs": [],
   "source": [
    "# consider these columns:\n",
    "\n",
    "# _STATE : state name\n",
    "# _SEX : gender [1:male. 2:female]\n",
    "# _TOTINDA : Adults who reported doing physical activity or exercise during the past 30 days other than their regular job [1: yes, 2:no, 9:don't know]\n",
    "# _ASTHMS1 : asthma status 1:current, 2: former, 3:never 9:don't know\n",
    "# _AGE80 : age\n",
    "# _CHLDCNT : children count [1: 0 child, 2 : one child, 3: two children, 4: three children, 5: four children, 6: five or more children, 9: NA]\n",
    "# EDUCA : Education level [1: No school, 2: elementary{1-8}, 3: high school{9-11}, 4:GED, 5: college, 6:College graduate, 9: NA]\n",
    "# INCOME2 : annual household income [1: less than $10,000, 2: $10,000-$14,999, 3: $15,000-$19,999, 4: $20,000-$24,999, 5: $25,000--$34,999, 6: $35,000--$49,999, 7: $50,000--$74,999, 8: $75,000 or more, 77: NA, 99: NA, BLANK: NA]\n",
    "# DROCDY3_ : Drink-occasions-per-day  [0-899, 900- NA] (some outliers - apply filter)\n",
    "# GENHLTH : General health status [1: excellent, 2: very good, 3: good, 5:fair, 5: poor, 7,9,Blank: NA]\n",
    "# SLEPTIM1 : average sleep hours per day [1-24: hours, 77,99,Blank: NA]\n",
    "# MARITAL : marital status [1: married, 2: divorced, 3: widowed, 4: separated, 5: never married, , 6: Unmarried Couple member, 9,Blank: NA]\n",
    "# EMPLOY1 : employment status \n",
    "# _BMI5 : 1-9999, BLANK: NA - use filter to remove nan values.\n",
    "# _BMI5CAT : 1: underweight, 2: normal, 3: overweight, 4: obese, BLANK: NA\n",
    "# _SMOKER3 : 1:everyday, 2: occassional, 3: former, 4: never, 9: NA\n",
    "\n",
    "\n",
    "# some trends to observe\n",
    "\n",
    "# state vs diabetes\n",
    "# state vs asthma\n",
    "# state vs avgAge\n",
    "# state vs avgWeight\n",
    "# state vs avgHeight\n",
    "# state vs avgChildren\n",
    "# state vs sleepHours\n",
    "# age vs sleepHours\n",
    "# avgWeight vs sleepHours\n",
    "# avgHeight vs sleepHours"
   ]
  },
  {
   "cell_type": "markdown",
   "metadata": {},
   "source": [
    "# Preparing Dataset"
   ]
  },
  {
   "cell_type": "code",
   "execution_count": 88,
   "metadata": {},
   "outputs": [],
   "source": [
    "df3 = pd.DataFrame()\n",
    "\n",
    "healthMap ={1:'excellent',2:'verygood',3:'good',4:'fair',5:'poor'}\n",
    "ailmentMap = {1:'yes', 2:'no', 3:'unknown', 7:'unknown', 9:'unknown', '': 'no'}\n",
    "diabetesMap = {1:'yes', 2:'no', 3:'no', 4:'no', 7:'no', 9:'no'}\n",
    "maritalMap = {1:'married',2:'divorced',3:'widowed',4:'separated',5:'nevermarried', 6:'unmarriedcouple',9:'unknown'}\n",
    "maritalSummary = {1:'yes',2:'no',3:'no', 4:'yes', 5:'no', 6:'no', 9:'unknown'}\n",
    "educationMap = {1:'none', 2:'elementary', 3:'somehs', 4:'hs',5:'somecollege',6:'college', 9:'unknown'}\n",
    "veteranMap = {1:'yes',2:'no', 7:'unknown', 9:'unknown'}\n",
    "stateMap = {1:'AZ', 2:'AS', 4:'AZ',5:'AK',6:'CA', 8:'CO', 9:'CT',10:'DE',11:'DC',12:'FL',13:'GA',\n",
    "           15:'HI',16:'ID',17:'IL',18:'IN',19:'IA',20:'KS', 21:'KY',22:'LA',23:'ME', 24:'MD', 25:'MA',26:'MI',\n",
    "           27:'MN',28:'MS', 29:'MO', 30:'MT', 31:'NE',32:'NV', 33:'NH', 34:'NJ', 35:'NM',36:'NY', 37:'NC',\n",
    "           38:'ND', 39:'OH',40:'OK',41:'OR', 42:'PA',44:'RI',45:'SC', 46:'SD', 47:'TN', 48:'TX', 49:'UT',\n",
    "           50:'VT', 51:'VA', 53:'WA', 54:'WV',55:'WI', 56:'WY', 66:'Guam', 72:'PR'}\n",
    "PhysicalActivityMap = {1:'yes', 2:'no', 9:'unknown'}\n",
    "ChildCntMap = {1:'0', 2:'1', 3:'2', 4:'3', 5:'4', 6:'5', 9:'NA'}\n",
    "employmentMap = {1:'employed', 2:'self-employed', 3:'outofwork', 4:'outofwork', 5:'homemaker', \n",
    "                6:'student', 7:'retired', 8:'unableToWork', 9:'unknown'}\n",
    "bmicatMap = {1:'underweight', 2:'normal', 3:'overweight', 4:'obese', '':'unknown'}\n",
    "smokerMap = {1:'everyday', 2: 'occassional', 3: 'former', 4: 'never', 9: 'unknown'}\n",
    "\n",
    "df3['age'] = df2['_AGE80']\n",
    "df3['gender'] = df2['SEXVAR'].map({1:'male',2:'female'})\n",
    "df3['weight'] = df2['WEIGHT2']\n",
    "df3['height'] = df2['HTIN4']\n",
    "df3['ageGroup'] = df2['_AGE_G']\n",
    "df3['genhealth'] = df2['GENHLTH'].map(healthMap)\n",
    "df3['asthma_ever'] = df2['ASTHMA3'].map(ailmentMap)\n",
    "df3['asthma'] = df2['ASTHNOW'].map(ailmentMap)\n",
    "df3['skincancer'] = df2['CHCSCNCR'].map(ailmentMap)\n",
    "df3['othercancer'] = df2['CHCOCNCR'].map(ailmentMap)\n",
    "df3['copd'] = df2['CHCCOPD2'].map(ailmentMap)\n",
    "df3['arthritis'] = df2['HAVARTH4'].map(ailmentMap)\n",
    "df3['depression'] = df2['ADDEPEV3'].map(ailmentMap)\n",
    "df3['kidneydis'] = df2['CHCKDNY2'].map(ailmentMap)\n",
    "df3['diabetes'] = df2['DIABETE4'].map(diabetesMap)\n",
    "df3['maritaldetail'] = df2['MARITAL'].map(maritalMap)\n",
    "df3['married'] = df2['MARITAL'].map(maritalSummary)\n",
    "df3['education'] = df2['EDUCA'].map(educationMap)\n",
    "df3['veteran'] = df2['VETERAN3'].map(ailmentMap)\n",
    "df3['income'] = df2['INCOME2']\n",
    "df3['state'] = df2['_STATE'].map(stateMap)\n",
    "df3['physicalactivity'] = df2['_TOTINDA'].map(PhysicalActivityMap)\n",
    "df3['childcnt'] = df2['_CHLDCNT'].map(ChildCntMap)\n",
    "df3['drinksperday'] = df2['DROCDY3_']\n",
    "df3['sleephours'] = df2['SLEPTIM1']\n",
    "df3['employment'] = df2['EMPLOY1'].map(employmentMap)\n",
    "df3['bmi'] = df2['_BMI5']\n",
    "df3['bmicategory'] = df2['_BMI5CAT'].map(bmicatMap)\n",
    "df3['smokertype'] = df2['_SMOKER3'].map(smokerMap)\n",
    "\n"
   ]
  },
  {
   "cell_type": "code",
   "execution_count": 89,
   "metadata": {},
   "outputs": [
    {
     "data": {
      "text/html": [
       "<div>\n",
       "<style scoped>\n",
       "    .dataframe tbody tr th:only-of-type {\n",
       "        vertical-align: middle;\n",
       "    }\n",
       "\n",
       "    .dataframe tbody tr th {\n",
       "        vertical-align: top;\n",
       "    }\n",
       "\n",
       "    .dataframe thead th {\n",
       "        text-align: right;\n",
       "    }\n",
       "</style>\n",
       "<table border=\"1\" class=\"dataframe\">\n",
       "  <thead>\n",
       "    <tr style=\"text-align: right;\">\n",
       "      <th></th>\n",
       "      <th>age</th>\n",
       "      <th>weight</th>\n",
       "      <th>height</th>\n",
       "      <th>ageGroup</th>\n",
       "      <th>income</th>\n",
       "      <th>drinksperday</th>\n",
       "      <th>sleephours</th>\n",
       "      <th>bmi</th>\n",
       "    </tr>\n",
       "  </thead>\n",
       "  <tbody>\n",
       "    <tr>\n",
       "      <th>count</th>\n",
       "      <td>291806.000000</td>\n",
       "      <td>291806.000000</td>\n",
       "      <td>291806.000000</td>\n",
       "      <td>291806.000000</td>\n",
       "      <td>291806.00000</td>\n",
       "      <td>2.918060e+05</td>\n",
       "      <td>291806.000000</td>\n",
       "      <td>291806.000000</td>\n",
       "    </tr>\n",
       "    <tr>\n",
       "      <th>mean</th>\n",
       "      <td>54.297444</td>\n",
       "      <td>183.413628</td>\n",
       "      <td>67.181998</td>\n",
       "      <td>4.345833</td>\n",
       "      <td>6.10484</td>\n",
       "      <td>1.853107e+01</td>\n",
       "      <td>7.559296</td>\n",
       "      <td>2847.403696</td>\n",
       "    </tr>\n",
       "    <tr>\n",
       "      <th>std</th>\n",
       "      <td>17.293244</td>\n",
       "      <td>46.280005</td>\n",
       "      <td>4.168305</td>\n",
       "      <td>1.587413</td>\n",
       "      <td>2.06418</td>\n",
       "      <td>2.925122e+01</td>\n",
       "      <td>6.087741</td>\n",
       "      <td>636.221433</td>\n",
       "    </tr>\n",
       "    <tr>\n",
       "      <th>min</th>\n",
       "      <td>18.000000</td>\n",
       "      <td>60.000000</td>\n",
       "      <td>36.000000</td>\n",
       "      <td>1.000000</td>\n",
       "      <td>1.00000</td>\n",
       "      <td>5.397605e-79</td>\n",
       "      <td>1.000000</td>\n",
       "      <td>1202.000000</td>\n",
       "    </tr>\n",
       "    <tr>\n",
       "      <th>25%</th>\n",
       "      <td>40.000000</td>\n",
       "      <td>150.000000</td>\n",
       "      <td>64.000000</td>\n",
       "      <td>3.000000</td>\n",
       "      <td>5.00000</td>\n",
       "      <td>5.397605e-79</td>\n",
       "      <td>6.000000</td>\n",
       "      <td>2417.000000</td>\n",
       "    </tr>\n",
       "    <tr>\n",
       "      <th>50%</th>\n",
       "      <td>57.000000</td>\n",
       "      <td>180.000000</td>\n",
       "      <td>67.000000</td>\n",
       "      <td>5.000000</td>\n",
       "      <td>7.00000</td>\n",
       "      <td>3.000000e+00</td>\n",
       "      <td>7.000000</td>\n",
       "      <td>2741.000000</td>\n",
       "    </tr>\n",
       "    <tr>\n",
       "      <th>75%</th>\n",
       "      <td>68.000000</td>\n",
       "      <td>210.000000</td>\n",
       "      <td>70.000000</td>\n",
       "      <td>6.000000</td>\n",
       "      <td>8.00000</td>\n",
       "      <td>2.700000e+01</td>\n",
       "      <td>8.000000</td>\n",
       "      <td>3162.000000</td>\n",
       "    </tr>\n",
       "    <tr>\n",
       "      <th>max</th>\n",
       "      <td>80.000000</td>\n",
       "      <td>630.000000</td>\n",
       "      <td>92.000000</td>\n",
       "      <td>6.000000</td>\n",
       "      <td>8.00000</td>\n",
       "      <td>1.000000e+02</td>\n",
       "      <td>99.000000</td>\n",
       "      <td>9466.000000</td>\n",
       "    </tr>\n",
       "  </tbody>\n",
       "</table>\n",
       "</div>"
      ],
      "text/plain": [
       "                 age         weight         height       ageGroup  \\\n",
       "count  291806.000000  291806.000000  291806.000000  291806.000000   \n",
       "mean       54.297444     183.413628      67.181998       4.345833   \n",
       "std        17.293244      46.280005       4.168305       1.587413   \n",
       "min        18.000000      60.000000      36.000000       1.000000   \n",
       "25%        40.000000     150.000000      64.000000       3.000000   \n",
       "50%        57.000000     180.000000      67.000000       5.000000   \n",
       "75%        68.000000     210.000000      70.000000       6.000000   \n",
       "max        80.000000     630.000000      92.000000       6.000000   \n",
       "\n",
       "             income  drinksperday     sleephours            bmi  \n",
       "count  291806.00000  2.918060e+05  291806.000000  291806.000000  \n",
       "mean        6.10484  1.853107e+01       7.559296    2847.403696  \n",
       "std         2.06418  2.925122e+01       6.087741     636.221433  \n",
       "min         1.00000  5.397605e-79       1.000000    1202.000000  \n",
       "25%         5.00000  5.397605e-79       6.000000    2417.000000  \n",
       "50%         7.00000  3.000000e+00       7.000000    2741.000000  \n",
       "75%         8.00000  2.700000e+01       8.000000    3162.000000  \n",
       "max         8.00000  1.000000e+02      99.000000    9466.000000  "
      ]
     },
     "execution_count": 89,
     "metadata": {},
     "output_type": "execute_result"
    }
   ],
   "source": [
    "df3.describe()"
   ]
  },
  {
   "cell_type": "code",
   "execution_count": 90,
   "metadata": {},
   "outputs": [
    {
     "data": {
      "text/plain": [
       "Index(['age', 'gender', 'weight', 'height', 'ageGroup', 'genhealth',\n",
       "       'asthma_ever', 'asthma', 'skincancer', 'othercancer', 'copd',\n",
       "       'arthritis', 'depression', 'kidneydis', 'diabetes', 'maritaldetail',\n",
       "       'married', 'education', 'veteran', 'income', 'state',\n",
       "       'physicalactivity', 'childcnt', 'drinksperday', 'sleephours',\n",
       "       'employment', 'bmi', 'bmicategory', 'smokertype'],\n",
       "      dtype='object')"
      ]
     },
     "execution_count": 90,
     "metadata": {},
     "output_type": "execute_result"
    }
   ],
   "source": [
    "df3.columns\n"
   ]
  },
  {
   "cell_type": "code",
   "execution_count": 94,
   "metadata": {},
   "outputs": [
    {
     "name": "stdout",
     "output_type": "stream",
     "text": [
      "(291806, 29)\n"
     ]
    },
    {
     "data": {
      "text/plain": [
       "count       291806\n",
       "unique           5\n",
       "top       verygood\n",
       "freq        103252\n",
       "Name: genhealth, dtype: object"
      ]
     },
     "execution_count": 94,
     "metadata": {},
     "output_type": "execute_result"
    }
   ],
   "source": [
    "print(df3.shape)\n",
    "df3.genhealth.describe()\n"
   ]
  },
  {
   "cell_type": "code",
   "execution_count": 95,
   "metadata": {},
   "outputs": [],
   "source": [
    "df3.to_csv('/home/arun/HPCC-covid19/LLCP/llcpA.csv', index=False)\n"
   ]
  },
  {
   "cell_type": "code",
   "execution_count": 96,
   "metadata": {},
   "outputs": [
    {
     "data": {
      "text/plain": [
       "<matplotlib.collections.PathCollection at 0x7fd40f2ff160>"
      ]
     },
     "execution_count": 96,
     "metadata": {},
     "output_type": "execute_result"
    },
    {
     "data": {
      "image/png": "[encoded data removed]",
      "text/plain": [
       "<Figure size 432x288 with 1 Axes>"
      ]
     },
     "metadata": {
      "needs_background": "light"
     },
     "output_type": "display_data"
    }
   ],
   "source": [
    "plt.scatter(df3.height, df3.weight)"
   ]
  },
  {
   "cell_type": "code",
   "execution_count": null,
   "metadata": {},
   "outputs": [],
   "source": []
  }
 ],
 "metadata": {
  "kernelspec": {
   "display_name": "Python 3.6.9 64-bit",
   "language": "python",
   "name": "python3"
  },
  "language_info": {
   "codemirror_mode": {
    "name": "ipython",
    "version": 3
   },
   "file_extension": ".py",
   "mimetype": "text/x-python",
   "name": "python",
   "nbconvert_exporter": "python",
   "pygments_lexer": "ipython3",
   "version": "3.6.9"
  },
  "vscode": {
   "interpreter": {
    "hash": "31f2aee4e71d21fbe5cf8b01ff0e069b9275f58929596ceb00d14d90e3e16cd6"
   }
  }
 },
 "nbformat": 4,
 "nbformat_minor": 4
}
