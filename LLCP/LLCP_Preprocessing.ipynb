{
 "cells": [
  {
   "cell_type": "markdown",
   "metadata": {},
   "source": [
    "## Importing necessary libraries and reading "
   ]
  },
  {
   "cell_type": "code",
   "execution_count": 1,
   "metadata": {},
   "outputs": [],
   "source": [
    "import pandas as pd\n",
    "import numpy as np\n",
    "import matplotlib.pyplot as plt\n"
   ]
  },
  {
   "cell_type": "code",
   "execution_count": 2,
   "metadata": {},
   "outputs": [
    {
     "data": {
      "text/plain": [
       "(401958, 279)"
      ]
     },
     "execution_count": 2,
     "metadata": {},
     "output_type": "execute_result"
    }
   ],
   "source": [
    "df = pd.read_sas('/home/arun/HPCC-covid19/LLCP/LLCP2020.XPT')\n",
    "df.shape"
   ]
  },
  {
   "cell_type": "code",
   "execution_count": 3,
   "metadata": {},
   "outputs": [
    {
     "data": {
      "text/html": [
       "<div>\n",
       "<style scoped>\n",
       "    .dataframe tbody tr th:only-of-type {\n",
       "        vertical-align: middle;\n",
       "    }\n",
       "\n",
       "    .dataframe tbody tr th {\n",
       "        vertical-align: top;\n",
       "    }\n",
       "\n",
       "    .dataframe thead th {\n",
       "        text-align: right;\n",
       "    }\n",
       "</style>\n",
       "<table border=\"1\" class=\"dataframe\">\n",
       "  <thead>\n",
       "    <tr style=\"text-align: right;\">\n",
       "      <th></th>\n",
       "      <th>_STATE</th>\n",
       "      <th>FMONTH</th>\n",
       "      <th>IDATE</th>\n",
       "      <th>IMONTH</th>\n",
       "      <th>IDAY</th>\n",
       "      <th>IYEAR</th>\n",
       "      <th>DISPCODE</th>\n",
       "      <th>SEQNO</th>\n",
       "      <th>_PSU</th>\n",
       "      <th>CTELENM1</th>\n",
       "      <th>...</th>\n",
       "      <th>_RFPSA23</th>\n",
       "      <th>_CLNSCPY</th>\n",
       "      <th>_SGMSCPY</th>\n",
       "      <th>_SGMS10Y</th>\n",
       "      <th>_RFBLDS4</th>\n",
       "      <th>_STOLDNA</th>\n",
       "      <th>_VIRCOLN</th>\n",
       "      <th>_SBONTIM</th>\n",
       "      <th>_CRCREC1</th>\n",
       "      <th>_AIDTST4</th>\n",
       "    </tr>\n",
       "  </thead>\n",
       "  <tbody>\n",
       "    <tr>\n",
       "      <th>0</th>\n",
       "      <td>1.0</td>\n",
       "      <td>1.0</td>\n",
       "      <td>b'01042020'</td>\n",
       "      <td>b'01'</td>\n",
       "      <td>b'04'</td>\n",
       "      <td>b'2020'</td>\n",
       "      <td>1100.0</td>\n",
       "      <td>b'2020000001'</td>\n",
       "      <td>2.020000e+09</td>\n",
       "      <td>1.0</td>\n",
       "      <td>...</td>\n",
       "      <td>NaN</td>\n",
       "      <td>1.0</td>\n",
       "      <td>3.0</td>\n",
       "      <td>3.0</td>\n",
       "      <td>3.0</td>\n",
       "      <td>3.0</td>\n",
       "      <td>3.0</td>\n",
       "      <td>3.0</td>\n",
       "      <td>1.0</td>\n",
       "      <td>1.0</td>\n",
       "    </tr>\n",
       "    <tr>\n",
       "      <th>1</th>\n",
       "      <td>1.0</td>\n",
       "      <td>1.0</td>\n",
       "      <td>b'02072020'</td>\n",
       "      <td>b'02'</td>\n",
       "      <td>b'07'</td>\n",
       "      <td>b'2020'</td>\n",
       "      <td>1200.0</td>\n",
       "      <td>b'2020000002'</td>\n",
       "      <td>2.020000e+09</td>\n",
       "      <td>1.0</td>\n",
       "      <td>...</td>\n",
       "      <td>NaN</td>\n",
       "      <td>NaN</td>\n",
       "      <td>NaN</td>\n",
       "      <td>NaN</td>\n",
       "      <td>NaN</td>\n",
       "      <td>NaN</td>\n",
       "      <td>NaN</td>\n",
       "      <td>2.0</td>\n",
       "      <td>NaN</td>\n",
       "      <td>NaN</td>\n",
       "    </tr>\n",
       "    <tr>\n",
       "      <th>2</th>\n",
       "      <td>1.0</td>\n",
       "      <td>1.0</td>\n",
       "      <td>b'01232020'</td>\n",
       "      <td>b'01'</td>\n",
       "      <td>b'23'</td>\n",
       "      <td>b'2020'</td>\n",
       "      <td>1100.0</td>\n",
       "      <td>b'2020000003'</td>\n",
       "      <td>2.020000e+09</td>\n",
       "      <td>1.0</td>\n",
       "      <td>...</td>\n",
       "      <td>NaN</td>\n",
       "      <td>1.0</td>\n",
       "      <td>3.0</td>\n",
       "      <td>3.0</td>\n",
       "      <td>3.0</td>\n",
       "      <td>3.0</td>\n",
       "      <td>3.0</td>\n",
       "      <td>3.0</td>\n",
       "      <td>1.0</td>\n",
       "      <td>2.0</td>\n",
       "    </tr>\n",
       "    <tr>\n",
       "      <th>3</th>\n",
       "      <td>1.0</td>\n",
       "      <td>1.0</td>\n",
       "      <td>b'01092020'</td>\n",
       "      <td>b'01'</td>\n",
       "      <td>b'09'</td>\n",
       "      <td>b'2020'</td>\n",
       "      <td>1100.0</td>\n",
       "      <td>b'2020000004'</td>\n",
       "      <td>2.020000e+09</td>\n",
       "      <td>1.0</td>\n",
       "      <td>...</td>\n",
       "      <td>NaN</td>\n",
       "      <td>NaN</td>\n",
       "      <td>NaN</td>\n",
       "      <td>NaN</td>\n",
       "      <td>NaN</td>\n",
       "      <td>NaN</td>\n",
       "      <td>NaN</td>\n",
       "      <td>NaN</td>\n",
       "      <td>NaN</td>\n",
       "      <td>2.0</td>\n",
       "    </tr>\n",
       "    <tr>\n",
       "      <th>4</th>\n",
       "      <td>1.0</td>\n",
       "      <td>1.0</td>\n",
       "      <td>b'01042020'</td>\n",
       "      <td>b'01'</td>\n",
       "      <td>b'04'</td>\n",
       "      <td>b'2020'</td>\n",
       "      <td>1100.0</td>\n",
       "      <td>b'2020000005'</td>\n",
       "      <td>2.020000e+09</td>\n",
       "      <td>1.0</td>\n",
       "      <td>...</td>\n",
       "      <td>NaN</td>\n",
       "      <td>NaN</td>\n",
       "      <td>NaN</td>\n",
       "      <td>NaN</td>\n",
       "      <td>NaN</td>\n",
       "      <td>NaN</td>\n",
       "      <td>NaN</td>\n",
       "      <td>NaN</td>\n",
       "      <td>NaN</td>\n",
       "      <td>9.0</td>\n",
       "    </tr>\n",
       "  </tbody>\n",
       "</table>\n",
       "<p>5 rows × 279 columns</p>\n",
       "</div>"
      ],
      "text/plain": [
       "   _STATE  FMONTH        IDATE IMONTH   IDAY    IYEAR  DISPCODE  \\\n",
       "0     1.0     1.0  b'01042020'  b'01'  b'04'  b'2020'    1100.0   \n",
       "1     1.0     1.0  b'02072020'  b'02'  b'07'  b'2020'    1200.0   \n",
       "2     1.0     1.0  b'01232020'  b'01'  b'23'  b'2020'    1100.0   \n",
       "3     1.0     1.0  b'01092020'  b'01'  b'09'  b'2020'    1100.0   \n",
       "4     1.0     1.0  b'01042020'  b'01'  b'04'  b'2020'    1100.0   \n",
       "\n",
       "           SEQNO          _PSU  CTELENM1  ...  _RFPSA23  _CLNSCPY  _SGMSCPY  \\\n",
       "0  b'2020000001'  2.020000e+09       1.0  ...       NaN       1.0       3.0   \n",
       "1  b'2020000002'  2.020000e+09       1.0  ...       NaN       NaN       NaN   \n",
       "2  b'2020000003'  2.020000e+09       1.0  ...       NaN       1.0       3.0   \n",
       "3  b'2020000004'  2.020000e+09       1.0  ...       NaN       NaN       NaN   \n",
       "4  b'2020000005'  2.020000e+09       1.0  ...       NaN       NaN       NaN   \n",
       "\n",
       "   _SGMS10Y  _RFBLDS4  _STOLDNA  _VIRCOLN  _SBONTIM  _CRCREC1  _AIDTST4  \n",
       "0       3.0       3.0       3.0       3.0       3.0       1.0       1.0  \n",
       "1       NaN       NaN       NaN       NaN       2.0       NaN       NaN  \n",
       "2       3.0       3.0       3.0       3.0       3.0       1.0       2.0  \n",
       "3       NaN       NaN       NaN       NaN       NaN       NaN       2.0  \n",
       "4       NaN       NaN       NaN       NaN       NaN       NaN       9.0  \n",
       "\n",
       "[5 rows x 279 columns]"
      ]
     },
     "execution_count": 3,
     "metadata": {},
     "output_type": "execute_result"
    }
   ],
   "source": [
    "df.head()"
   ]
  },
  {
   "cell_type": "code",
   "execution_count": 4,
   "metadata": {},
   "outputs": [
    {
     "name": "stdout",
     "output_type": "stream",
     "text": [
      "original size (401958, 279)\n",
      "after removing columns with null values (401958, 50)\n",
      "after removing rows and columns with null values (401958, 50)\n",
      "after removing only rows with null values (0, 279)\n"
     ]
    }
   ],
   "source": [
    "# check for null values of each column and print the count\n",
    "dfna1 = df.dropna(axis=1)\n",
    "dfna2 = dfna1.dropna(axis=0)\n",
    "dfna3 = df.dropna(axis=0)\n",
    "\n",
    "print(\"original size\", df.shape)\n",
    "print(\"after removing columns with null values\", dfna1.shape)\n",
    "print(\"after removing rows and columns with null values\", dfna2.shape)\n",
    "print(\"after removing only rows with null values\", dfna3.shape)\n",
    "\n",
    "# Out of 279, 229 columns have null values.\n",
    "# it can be seen that each row has one or more null values."
   ]
  },
  {
   "cell_type": "code",
   "execution_count": 5,
   "metadata": {},
   "outputs": [
    {
     "data": {
      "text/plain": [
       "Index(['_STATE', 'FMONTH', 'IDATE', 'IMONTH', 'IDAY', 'IYEAR', 'DISPCODE',\n",
       "       'SEQNO', '_PSU', 'SEXVAR', 'QSTVER', 'QSTLANG', '_STSTR', '_STRWT',\n",
       "       '_RAWRAKE', '_WT2RAKE', '_IMPRACE', '_DUALUSE', '_LLCPWT2', '_LLCPWT',\n",
       "       '_RFHLTH', '_PHYS14D', '_MENT14D', '_HCVU651', '_TOTINDA', '_LTASTH1',\n",
       "       '_CASTHM1', '_ASTHMS1', '_EXTETH3', '_DENVST3', '_HISPANC', '_SEX',\n",
       "       '_AGEG5YR', '_AGE65YR', '_AGE80', '_AGE_G', '_RFBMI5', '_CHLDCNT',\n",
       "       '_EDUCAG', '_INCOMG', '_SMOKER3', '_RFSMOK3', 'DRNKANY5', 'DROCDY3_',\n",
       "       '_RFBING5', '_DRNKWK1', '_RFDRHV7', '_RFSEAT2', '_RFSEAT3', '_DRNKDRV'],\n",
       "      dtype='object')"
      ]
     },
     "execution_count": 5,
     "metadata": {},
     "output_type": "execute_result"
    }
   ],
   "source": [
    "# columns without any null values\n",
    "dfna1.columns\n",
    "\n",
    "# I will not be using dfna1, dfna2, dfna3 for future analysis, as it has removed some important columns."
   ]
  },
  {
   "cell_type": "markdown",
   "metadata": {},
   "source": [
    "# Choosing variables"
   ]
  },
  {
   "cell_type": "code",
   "execution_count": 6,
   "metadata": {},
   "outputs": [
    {
     "name": "stdout",
     "output_type": "stream",
     "text": [
      "2.0 <class 'numpy.float64'>\n",
      "1.0 <class 'numpy.float64'>\n"
     ]
    }
   ],
   "source": [
    "# print all the unique values of 'sexvar' column\n",
    "for i in df['SEXVAR'].unique():\n",
    "    print(i, type(i))"
   ]
  },
  {
   "cell_type": "code",
   "execution_count": 7,
   "metadata": {},
   "outputs": [
    {
     "data": {
      "text/plain": [
       "['_STATE',\n",
       " 'FMONTH',\n",
       " 'IDATE',\n",
       " 'IMONTH',\n",
       " 'IDAY',\n",
       " 'IYEAR',\n",
       " 'DISPCODE',\n",
       " 'SEQNO',\n",
       " '_PSU',\n",
       " 'CTELENM1',\n",
       " 'PVTRESD1',\n",
       " 'COLGHOUS',\n",
       " 'STATERE1',\n",
       " 'CELPHONE',\n",
       " 'LADULT1',\n",
       " 'COLGSEX',\n",
       " 'NUMADULT',\n",
       " 'LANDSEX',\n",
       " 'NUMMEN',\n",
       " 'NUMWOMEN',\n",
       " 'RESPSLCT',\n",
       " 'SAFETIME',\n",
       " 'CTELNUM1',\n",
       " 'CELLFON5',\n",
       " 'CADULT1',\n",
       " 'CELLSEX',\n",
       " 'PVTRESD3',\n",
       " 'CCLGHOUS',\n",
       " 'CSTATE1',\n",
       " 'LANDLINE',\n",
       " 'HHADULT',\n",
       " 'SEXVAR',\n",
       " 'GENHLTH',\n",
       " 'PHYSHLTH',\n",
       " 'MENTHLTH',\n",
       " 'POORHLTH',\n",
       " 'HLTHPLN1',\n",
       " 'PERSDOC2',\n",
       " 'MEDCOST',\n",
       " 'CHECKUP1',\n",
       " 'EXERANY2',\n",
       " 'SLEPTIM1',\n",
       " 'CVDINFR4',\n",
       " 'CVDCRHD4',\n",
       " 'CVDSTRK3',\n",
       " 'ASTHMA3',\n",
       " 'ASTHNOW',\n",
       " 'CHCSCNCR',\n",
       " 'CHCOCNCR',\n",
       " 'CHCCOPD2',\n",
       " 'HAVARTH4',\n",
       " 'ADDEPEV3',\n",
       " 'CHCKDNY2',\n",
       " 'DIABETE4',\n",
       " 'DIABAGE3',\n",
       " 'LASTDEN4',\n",
       " 'RMVTETH4',\n",
       " 'MARITAL',\n",
       " 'EDUCA',\n",
       " 'RENTHOM1',\n",
       " 'NUMHHOL3',\n",
       " 'NUMPHON3',\n",
       " 'CPDEMO1B',\n",
       " 'VETERAN3',\n",
       " 'EMPLOY1',\n",
       " 'CHILDREN',\n",
       " 'INCOME2',\n",
       " 'PREGNANT',\n",
       " 'WEIGHT2',\n",
       " 'HEIGHT3',\n",
       " 'DEAF',\n",
       " 'BLIND',\n",
       " 'DECIDE',\n",
       " 'DIFFWALK',\n",
       " 'DIFFDRES',\n",
       " 'DIFFALON',\n",
       " 'SMOKE100',\n",
       " 'SMOKDAY2',\n",
       " 'STOPSMK2',\n",
       " 'LASTSMK2',\n",
       " 'USENOW3',\n",
       " 'ALCDAY5',\n",
       " 'AVEDRNK3',\n",
       " 'DRNK3GE5',\n",
       " 'MAXDRNKS',\n",
       " 'FLUSHOT7',\n",
       " 'FLSHTMY3',\n",
       " 'SHINGLE2',\n",
       " 'PNEUVAC4',\n",
       " 'FALL12MN',\n",
       " 'FALLINJ4',\n",
       " 'SEATBELT',\n",
       " 'DRNKDRI2',\n",
       " 'HADMAM',\n",
       " 'HOWLONG',\n",
       " 'HADPAP2',\n",
       " 'LASTPAP2',\n",
       " 'HPVTEST',\n",
       " 'HPLSTTST',\n",
       " 'HADHYST2',\n",
       " 'PCPSAAD3',\n",
       " 'PCPSADI1',\n",
       " 'PCPSARE1',\n",
       " 'PSATEST1',\n",
       " 'PSATIME',\n",
       " 'PCPSARS1',\n",
       " 'COLNSCPY',\n",
       " 'COLNTEST',\n",
       " 'SIGMSCPY',\n",
       " 'SIGMTEST',\n",
       " 'BLDSTOL1',\n",
       " 'LSTBLDS4',\n",
       " 'STOOLDNA',\n",
       " 'SDNATEST',\n",
       " 'VIRCOLON',\n",
       " 'VCLNTEST',\n",
       " 'HIVTST7',\n",
       " 'HIVTSTD3',\n",
       " 'HIVRISK5',\n",
       " 'PDIABTST',\n",
       " 'PREDIAB1',\n",
       " 'INSULIN1',\n",
       " 'BLDSUGAR',\n",
       " 'FEETCHK3',\n",
       " 'DOCTDIAB',\n",
       " 'CHKHEMO3',\n",
       " 'FEETCHK',\n",
       " 'EYEEXAM1',\n",
       " 'DIABEYE',\n",
       " 'DIABEDU',\n",
       " 'TOLDCFS',\n",
       " 'HAVECFS',\n",
       " 'WORKCFS',\n",
       " 'TOLDHEPC',\n",
       " 'TRETHEPC',\n",
       " 'PRIRHEPC',\n",
       " 'HAVEHEPC',\n",
       " 'HAVEHEPB',\n",
       " 'MEDSHEPB',\n",
       " 'HLTHCVR1',\n",
       " 'CIMEMLOS',\n",
       " 'CDHOUSE',\n",
       " 'CDASSIST',\n",
       " 'CDHELP',\n",
       " 'CDSOCIAL',\n",
       " 'CDDISCUS',\n",
       " 'CAREGIV1',\n",
       " 'CRGVREL4',\n",
       " 'CRGVLNG1',\n",
       " 'CRGVHRS1',\n",
       " 'CRGVPRB3',\n",
       " 'CRGVALZD',\n",
       " 'CRGVPER1',\n",
       " 'CRGVHOU1',\n",
       " 'CRGVEXPT',\n",
       " 'ECIGARET',\n",
       " 'ECIGNOW',\n",
       " 'MARIJAN1',\n",
       " 'USEMRJN2',\n",
       " 'RSNMRJN1',\n",
       " 'LCSFIRST',\n",
       " 'LCSLAST',\n",
       " 'LCSNUMCG',\n",
       " 'LCSCTSCN',\n",
       " 'CNCRDIFF',\n",
       " 'CNCRAGE',\n",
       " 'CNCRTYP1',\n",
       " 'CSRVTRT3',\n",
       " 'CSRVDOC1',\n",
       " 'CSRVSUM',\n",
       " 'CSRVRTRN',\n",
       " 'CSRVINST',\n",
       " 'CSRVINSR',\n",
       " 'CSRVDEIN',\n",
       " 'CSRVCLIN',\n",
       " 'CSRVPAIN',\n",
       " 'CSRVCTL2',\n",
       " 'PCPSADE1',\n",
       " 'PCDMDEC1',\n",
       " 'HPVADVC4',\n",
       " 'HPVADSHT',\n",
       " 'TETANUS1',\n",
       " 'IMFVPLA1',\n",
       " 'BIRTHSEX',\n",
       " 'SOMALE',\n",
       " 'SOFEMALE',\n",
       " 'TRNSGNDR',\n",
       " 'ACEDEPRS',\n",
       " 'ACEDRINK',\n",
       " 'ACEDRUGS',\n",
       " 'ACEPRISN',\n",
       " 'ACEDIVRC',\n",
       " 'ACEPUNCH',\n",
       " 'ACEHURT1',\n",
       " 'ACESWEAR',\n",
       " 'ACETOUCH',\n",
       " 'ACETTHEM',\n",
       " 'ACEHVSEX',\n",
       " 'RCSGENDR',\n",
       " 'RCSRLTN2',\n",
       " 'CASTHDX2',\n",
       " 'CASTHNO2',\n",
       " 'QSTVER',\n",
       " 'QSTLANG',\n",
       " '_METSTAT',\n",
       " '_URBSTAT',\n",
       " 'MSCODE',\n",
       " '_STSTR',\n",
       " '_STRWT',\n",
       " '_RAWRAKE',\n",
       " '_WT2RAKE',\n",
       " '_IMPRACE',\n",
       " '_CHISPNC',\n",
       " '_CRACE1',\n",
       " '_CPRACE',\n",
       " '_CLLCPWT',\n",
       " '_DUALUSE',\n",
       " '_DUALCOR',\n",
       " '_LLCPWT2',\n",
       " '_LLCPWT',\n",
       " '_RFHLTH',\n",
       " '_PHYS14D',\n",
       " '_MENT14D',\n",
       " '_HCVU651',\n",
       " '_TOTINDA',\n",
       " '_MICHD',\n",
       " '_LTASTH1',\n",
       " '_CASTHM1',\n",
       " '_ASTHMS1',\n",
       " '_DRDXAR2',\n",
       " '_EXTETH3',\n",
       " '_ALTETH3',\n",
       " '_DENVST3',\n",
       " '_PRACE1',\n",
       " '_MRACE1',\n",
       " '_HISPANC',\n",
       " '_RACE',\n",
       " '_RACEG21',\n",
       " '_RACEGR3',\n",
       " '_RACEPRV',\n",
       " '_SEX',\n",
       " '_AGEG5YR',\n",
       " '_AGE65YR',\n",
       " '_AGE80',\n",
       " '_AGE_G',\n",
       " 'HTIN4',\n",
       " 'HTM4',\n",
       " 'WTKG3',\n",
       " '_BMI5',\n",
       " '_BMI5CAT',\n",
       " '_RFBMI5',\n",
       " '_CHLDCNT',\n",
       " '_EDUCAG',\n",
       " '_INCOMG',\n",
       " '_SMOKER3',\n",
       " '_RFSMOK3',\n",
       " 'DRNKANY5',\n",
       " 'DROCDY3_',\n",
       " '_RFBING5',\n",
       " '_DRNKWK1',\n",
       " '_RFDRHV7',\n",
       " '_FLSHOT7',\n",
       " '_PNEUMO3',\n",
       " '_RFSEAT2',\n",
       " '_RFSEAT3',\n",
       " '_DRNKDRV',\n",
       " '_RFMAM22',\n",
       " '_MAM5023',\n",
       " '_RFPAP35',\n",
       " '_RFPSA23',\n",
       " '_CLNSCPY',\n",
       " '_SGMSCPY',\n",
       " '_SGMS10Y',\n",
       " '_RFBLDS4',\n",
       " '_STOLDNA',\n",
       " '_VIRCOLN',\n",
       " '_SBONTIM',\n",
       " '_CRCREC1',\n",
       " '_AIDTST4']"
      ]
     },
     "execution_count": 7,
     "metadata": {},
     "output_type": "execute_result"
    }
   ],
   "source": [
    "cols = list(df.columns)\n",
    "cols"
   ]
  },
  {
   "cell_type": "code",
   "execution_count": 8,
   "metadata": {},
   "outputs": [
    {
     "name": "stdout",
     "output_type": "stream",
     "text": [
      "DIABAGE3\n",
      "WEIGHT2\n",
      "HEIGHT3\n",
      "CNCRAGE\n",
      "_AGEG5YR\n",
      "_AGE65YR\n",
      "_AGE80\n",
      "_AGE_G\n"
     ]
    }
   ],
   "source": [
    "# To check for the presence of AGE, HEIGHT, and WEIGHT columns in the dataframe\n",
    "for col in cols:\n",
    "    if 'AGE' in col or 'WEIGHT' in col or 'HEIGHT' in col:\n",
    "        print(col)"
   ]
  },
  {
   "cell_type": "code",
   "execution_count": 9,
   "metadata": {},
   "outputs": [],
   "source": [
    "# Reported Gender (1 male, 2 female),Weight in pounds <= 776, Height in inches [36,95], \n",
    "#_AGE_G -- 1:18-24, 2:25-34, 3:35-44, 4:45-54, 5:55-64,6:>65\n",
    "#_AGE80 -- Seems to be actual age\n",
    "goodVars = ['SEXVAR', 'WEIGHT2','HTIN4', '_AGE_G', '_AGE80']"
   ]
  },
  {
   "cell_type": "code",
   "execution_count": 10,
   "metadata": {},
   "outputs": [],
   "source": [
    "df2 = df[np.logical_and(df.SEXVAR.isin([1,2]), df.WEIGHT2 < 776)]\n",
    "df2 = df2[np.logical_and(df2.HTIN4 >= 36, df2.HTIN4 <= 95)]"
   ]
  },
  {
   "cell_type": "code",
   "execution_count": 11,
   "metadata": {},
   "outputs": [
    {
     "name": "stdout",
     "output_type": "stream",
     "text": [
      "(401958, 279) (360186, 279)\n"
     ]
    }
   ],
   "source": [
    "print(df.shape, df2.shape)"
   ]
  },
  {
   "cell_type": "code",
   "execution_count": 12,
   "metadata": {},
   "outputs": [],
   "source": [
    "df2 = df2.query('SEXVAR.isin([1,2]) & WEIGHT2 <= 776 & HTIN4 >= 36 & HTIN4 <= 95 & _AGE_G >= 1 & _AGE_G <= 6 & GENHLTH >=1 & GENHLTH <= 5 & INCOME2 <= 8 & INCOME2 >= 1 & DROCDY3_ >= 0 & DROCDY3_ <= 900 & _BMI5 >= 1 & _BMI5 <= 9999')"
   ]
  },
  {
   "cell_type": "code",
   "execution_count": 13,
   "metadata": {},
   "outputs": [
    {
     "name": "stdout",
     "output_type": "stream",
     "text": [
      "(401958, 279) (300382, 279)\n"
     ]
    }
   ],
   "source": [
    "print(df.shape, df2.shape)"
   ]
  },
  {
   "cell_type": "code",
   "execution_count": 14,
   "metadata": {},
   "outputs": [
    {
     "name": "stdout",
     "output_type": "stream",
     "text": [
      "(401958, 279) (300382, 279)\n"
     ]
    }
   ],
   "source": [
    "print(df.shape, df2.shape)"
   ]
  },
  {
   "cell_type": "markdown",
   "metadata": {},
   "source": [
    "# Playground"
   ]
  },
  {
   "cell_type": "code",
   "execution_count": 15,
   "metadata": {},
   "outputs": [
    {
     "name": "stdout",
     "output_type": "stream",
     "text": [
      "count    300382.000000\n",
      "mean        183.395357\n",
      "std          46.257358\n",
      "min          60.000000\n",
      "25%         150.000000\n",
      "50%         180.000000\n",
      "75%         210.000000\n",
      "max         630.000000\n",
      "Name: WEIGHT2, dtype: float64\n",
      "\n",
      "unique values: [ 60.  61.  63.  64.  66.  68.  70.  71.  72.  73.  74.  75.  77.  78.\n",
      "  79.  80.  81.  82.  83.  84.  85.  86.  87.  88.  89.  90.  91.  92.\n",
      "  93.  94.  95.  96.  97.  98.  99. 100. 101. 102. 103. 104. 105. 106.\n",
      " 107. 108. 109. 110. 111. 112. 113. 114. 115. 116. 117. 118. 119. 120.\n",
      " 121. 122. 123. 124. 125. 126. 127. 128. 129. 130. 131. 132. 133. 134.\n",
      " 135. 136. 137. 138. 139. 140. 141. 142. 143. 144. 145. 146. 147. 148.\n",
      " 149. 150. 151. 152. 153. 154. 155. 156. 157. 158. 159. 160. 161. 162.\n",
      " 163. 164. 165. 166. 167. 168. 169. 170. 171. 172. 173. 174. 175. 176.\n",
      " 177. 178. 179. 180. 181. 182. 183. 184. 185. 186. 187. 188. 189. 190.\n",
      " 191. 192. 193. 194. 195. 196. 197. 198. 199. 200. 201. 202. 203. 204.\n",
      " 205. 206. 207. 208. 209. 210. 211. 212. 213. 214. 215. 216. 217. 218.\n",
      " 219. 220. 221. 222. 223. 224. 225. 226. 227. 228. 229. 230. 231. 232.\n",
      " 233. 234. 235. 236. 237. 238. 239. 240. 241. 242. 243. 244. 245. 246.\n",
      " 247. 248. 249. 250. 251. 252. 253. 254. 255. 256. 257. 258. 259. 260.\n",
      " 261. 262. 263. 264. 265. 266. 267. 268. 269. 270. 271. 272. 273. 274.\n",
      " 275. 276. 277. 278. 279. 280. 281. 282. 283. 284. 285. 286. 287. 288.\n",
      " 289. 290. 291. 292. 293. 294. 295. 296. 297. 298. 299. 300. 301. 302.\n",
      " 303. 304. 305. 306. 307. 308. 309. 310. 311. 312. 313. 314. 315. 316.\n",
      " 317. 318. 319. 320. 321. 322. 323. 324. 325. 326. 327. 328. 329. 330.\n",
      " 331. 332. 333. 334. 335. 336. 337. 338. 339. 340. 341. 342. 343. 344.\n",
      " 345. 346. 347. 348. 349. 350. 351. 352. 353. 354. 355. 356. 357. 358.\n",
      " 359. 360. 361. 362. 363. 364. 365. 366. 367. 368. 369. 370. 371. 372.\n",
      " 373. 374. 375. 376. 377. 378. 379. 380. 381. 382. 383. 384. 385. 386.\n",
      " 387. 388. 389. 390. 391. 392. 393. 394. 395. 396. 398. 399. 400. 401.\n",
      " 404. 405. 406. 408. 410. 411. 412. 413. 414. 415. 416. 417. 418. 419.\n",
      " 420. 421. 422. 424. 425. 428. 429. 430. 431. 432. 433. 435. 436. 438.\n",
      " 440. 443. 445. 450. 452. 453. 454. 455. 457. 460. 462. 465. 470. 472.\n",
      " 475. 478. 480. 482. 485. 490. 492. 495. 498. 500. 501. 502. 504. 505.\n",
      " 506. 507. 509. 510. 512. 515. 516. 520. 523. 525. 527. 528. 550. 560.\n",
      " 575. 580. 584. 585. 600. 601. 602. 630.]\n",
      "\n",
      "null values: 0 0\n"
     ]
    },
    {
     "data": {
      "text/plain": [
       "60.0     1\n",
       "61.0     1\n",
       "63.0     1\n",
       "64.0     2\n",
       "66.0     2\n",
       "        ..\n",
       "585.0    1\n",
       "600.0    4\n",
       "601.0    2\n",
       "602.0    1\n",
       "630.0    1\n",
       "Name: WEIGHT2, Length: 414, dtype: int64"
      ]
     },
     "execution_count": 15,
     "metadata": {},
     "output_type": "execute_result"
    }
   ],
   "source": [
    "var = 'WEIGHT2'\n",
    "\n",
    "print(df2[var].describe())\n",
    "print(\"\\nunique values:\",np.sort(list(df2[var].unique())))\n",
    "print(\"\\nnull values:\",df2[var].isna().sum(), df2[var].isnull().sum())\n",
    "df2[var].value_counts().sort_index()\n"
   ]
  },
  {
   "cell_type": "code",
   "execution_count": 16,
   "metadata": {},
   "outputs": [
    {
     "data": {
      "text/plain": [
       "0.0"
      ]
     },
     "execution_count": 16,
     "metadata": {},
     "output_type": "execute_result"
    }
   ],
   "source": [
    "# I've found a bug in read_sas, where on certain fields, 0.0 (floats) are read in as 5.397605e-79 (lowest IBM float value).\n",
    "\n",
    "df2.replace(5.397605346934028e-79, 0, inplace = True) \n",
    "\n",
    "df2.DROCDY3_.min()"
   ]
  },
  {
   "cell_type": "code",
   "execution_count": 17,
   "metadata": {},
   "outputs": [
    {
     "name": "stdout",
     "output_type": "stream",
     "text": [
      "\n",
      "unique values: ['nan' 'no' 'unknown' 'yes']\n",
      "\n",
      "null values: 259597 259597\n",
      "yes        28591\n",
      "no         11109\n",
      "unknown     1085\n",
      "Name: asthma, dtype: int64\n",
      "\n",
      "unique values: ['no' 'unknown' 'yes']\n",
      "\n",
      "null values: 0 0\n"
     ]
    },
    {
     "data": {
      "text/plain": [
       "no         270706\n",
       "yes         28591\n",
       "unknown      1085\n",
       "Name: asthma, dtype: int64"
      ]
     },
     "execution_count": 17,
     "metadata": {},
     "output_type": "execute_result"
    }
   ],
   "source": [
    "dfTemp = pd.DataFrame()\n",
    "ailmentMap = {1:'yes',2:'no',3:'unknown',7:'unknown', 9:'unknown',' ': 'no'}\n",
    "\n",
    "dfTemp['asthma'] = df2['ASTHNOW'].map(ailmentMap)\n",
    "\n",
    "print(\"\\nunique values:\",np.sort(list(dfTemp['asthma'].unique())))\n",
    "print(\"\\nnull values:\",dfTemp['asthma'].isna().sum(), dfTemp['asthma'].isnull().sum())\n",
    "print(dfTemp['asthma'].value_counts())\n",
    "\n",
    "dfTemp.fillna(value='no', inplace=True)\n",
    "\n",
    "print(\"\\nunique values:\",np.sort(list(dfTemp['asthma'].unique())))\n",
    "print(\"\\nnull values:\",dfTemp['asthma'].isna().sum(), dfTemp['asthma'].isnull().sum())\n",
    "\n",
    "dfTemp['asthma'].value_counts()\n",
    "\n"
   ]
  },
  {
   "cell_type": "code",
   "execution_count": 18,
   "metadata": {},
   "outputs": [],
   "source": [
    "# consider these columns:\n",
    "\n",
    "# _STATE : state name\n",
    "# _SEX : gender [1:male. 2:female]\n",
    "# _TOTINDA : Adults who reported doing physical activity or exercise during the past 30 days other than their regular job [1: yes, 2:no, 9:don't know]\n",
    "# _ASTHMS1 : asthma status 1:current, 2: former, 3:never 9:don't know\n",
    "# _AGE80 : age\n",
    "# _CHLDCNT : children count [1: 0 child, 2 : one child, 3: two children, 4: three children, 5: four children, 6: five or more children, 9: unknown]\n",
    "# EDUCA : Education level [1: No school, 2: elementary{1-8}, 3: high school{9-11}, 4:GED, 5: college, 6:College graduate, 9: unknown]\n",
    "# INCOME2 : annual household income [1: less than $10,000, 2: $10,000-$14,999, 3: $15,000-$19,999, 4: $20,000-$24,999, 5: $25,000--$34,999, 6: $35,000--$49,999, 7: $50,000--$74,999, 8: $75,000 or more, 77: unknown, 99: unknown, BLANK: unknown]\n",
    "# DROCDY3_ : Drink-occasions-per-day  [0-899, 900- unknown] (some outliers - apply filter)\n",
    "# GENHLTH : General health status [1: excellent, 2: very good, 3: good, 5:fair, 5: poor, 7,9,Blank: unknown]\n",
    "# SLEPTIM1 : average sleep hours per day [1-24: hours, 77,99,Blank: unknown]\n",
    "# MARITAL : marital status [1: married, 2: divorced, 3: widowed, 4: separated, 5: never married, , 6: Unmarried Couple member, 9,Blank: unknown]\n",
    "# EMPLOY1 : employment status \n",
    "# _BMI5 : 1-9999, BLANK: unknown - use filter to remove nan values.\n",
    "# _BMI5CAT : 1: underweight, 2: normal, 3: overweight, 4: obese, BLANK: unknown\n",
    "# _SMOKER3 : 1:everyday, 2: occassional, 3: former, 4: never, 9: unknown\n",
    "\n",
    "\n",
    "# some trends to observe\n",
    "\n",
    "# state vs diabetes\n",
    "# state vs asthma\n",
    "# state vs avgAge\n",
    "# state vs avgWeight\n",
    "# state vs avgHeight\n",
    "# state vs avgChildren\n",
    "# state vs sleepHours\n",
    "# age vs sleepHours\n",
    "# avgWeight vs sleepHours\n",
    "# avgHeight vs sleepHours"
   ]
  },
  {
   "cell_type": "markdown",
   "metadata": {},
   "source": [
    "# Preparing Dataset"
   ]
  },
  {
   "cell_type": "code",
   "execution_count": 19,
   "metadata": {},
   "outputs": [],
   "source": [
    "df3 = pd.DataFrame()\n",
    "\n",
    "healthMap ={1:'excellent',2:'verygood',3:'good',4:'fair',5:'poor'}\n",
    "ailmentMap = {1:'yes',2:'no',3:'unknown',7:'unknown', 9:'unknown','': 'no'}\n",
    "diabetesMap = {1:'yes', 2:'no', 3:'no', 4:'no', 7:'no', 9:'no'}\n",
    "maritalMap = {1:'married',2:'divorced',3:'widowed',4:'separated',5:'nevermarried', 6:'unmarriedcouple',9:'unknown'}\n",
    "maritalSummary = {1:'yes',2:'no',3:'no', 4:'yes', 5:'no', 6:'no', 9:'unknown'}\n",
    "educationMap = {1:'none', 2:'elementary', 3:'somehs', 4:'hs',5:'somecollege',6:'college', 9:'unknown'}\n",
    "veteranMap = {1:'yes',2:'no', 7:'unknown', 9:'unknown'}\n",
    "stateMap = {1:'AZ', 2:'AS', 4:'AZ',5:'AK',6:'CA', 8:'CO', 9:'CT',10:'DE',11:'DC',12:'FL',13:'GA',\n",
    "           15:'HI',16:'ID',17:'IL',18:'IN',19:'IA',20:'KS', 21:'KY',22:'LA',23:'ME', 24:'MD', 25:'MA',26:'MI',\n",
    "           27:'MN',28:'MS', 29:'MO', 30:'MT', 31:'NE',32:'NV', 33:'NH', 34:'NJ', 35:'NM',36:'NY', 37:'NC',\n",
    "           38:'ND', 39:'OH',40:'OK',41:'OR', 42:'PA',44:'RI',45:'SC', 46:'SD', 47:'TN', 48:'TX', 49:'UT',\n",
    "           50:'VT', 51:'VA', 53:'WA', 54:'WV',55:'WI', 56:'WY', 66:'Guam', 72:'PR'}\n",
    "PhysicalActivityMap = {1:'yes', 2:'no', 9:'unknown'}\n",
    "ChildCntMap = {1:'zero', 2:'one', 3:'two', 4:'three', 5:'four', 6:'fiveplus', 9:'unknown'}\n",
    "employmentMap = {1:'employed', 2:'self-employed', 3:'outofwork', 4:'outofwork', 5:'homemaker', \n",
    "                6:'student', 7:'retired', 8:'unableToWork', 9:'unknown'}\n",
    "bmicatMap = {1:'underweight', 2:'normal', 3:'overweight', 4:'obese', '':'unknown'}\n",
    "smokerMap = {1:'everyday', 2: 'occassional', 3: 'former', 4: 'never', 9: 'unknown'}\n",
    "\n",
    "df3['age'] = df2['_AGE80']\n",
    "df3['gender'] = df2['SEXVAR'].map({1:'male',2:'female'})\n",
    "df3['weight'] = df2['WEIGHT2']\n",
    "df3['height'] = df2['HTIN4']\n",
    "df3['ageGroup'] = df2['_AGE_G']\n",
    "df3['genhealth'] = df2['GENHLTH'].map(healthMap)\n",
    "df3['asthma_ever'] = df2['ASTHMA3'].map(ailmentMap)\n",
    "df3['asthma'] = df2['ASTHNOW'].map(ailmentMap)\n",
    "df3['skincancer'] = df2['CHCSCNCR'].map(ailmentMap)\n",
    "df3['othercancer'] = df2['CHCOCNCR'].map(ailmentMap)\n",
    "df3['copd'] = df2['CHCCOPD2'].map(ailmentMap)\n",
    "df3['arthritis'] = df2['HAVARTH4'].map(ailmentMap)\n",
    "df3['depression'] = df2['ADDEPEV3'].map(ailmentMap)\n",
    "df3['kidneydis'] = df2['CHCKDNY2'].map(ailmentMap)\n",
    "df3['diabetes'] = df2['DIABETE4'].map(diabetesMap)\n",
    "df3['maritaldetail'] = df2['MARITAL'].map(maritalMap)\n",
    "df3['married'] = df2['MARITAL'].map(maritalSummary)\n",
    "df3['education'] = df2['EDUCA'].map(educationMap)\n",
    "df3['veteran'] = df2['VETERAN3'].map(ailmentMap)\n",
    "df3['income'] = df2['INCOME2']\n",
    "df3['state'] = df2['_STATE'].map(stateMap)\n",
    "df3['physicalactivity'] = df2['_TOTINDA'].map(PhysicalActivityMap)\n",
    "df3['childcnt'] = df2['_CHLDCNT'].map(ChildCntMap)\n",
    "df3['drinksperday'] = df2['DROCDY3_']\n",
    "df3['sleephours'] = df2['SLEPTIM1']\n",
    "df3['employment'] = df2['EMPLOY1'].map(employmentMap)\n",
    "df3['bmi'] = df2['_BMI5']\n",
    "df3['bmicategory'] = df2['_BMI5CAT'].map(bmicatMap)\n",
    "df3['smokertype'] = df2['_SMOKER3'].map(smokerMap)\n",
    "\n"
   ]
  },
  {
   "cell_type": "code",
   "execution_count": 20,
   "metadata": {},
   "outputs": [
    {
     "data": {
      "text/html": [
       "<div>\n",
       "<style scoped>\n",
       "    .dataframe tbody tr th:only-of-type {\n",
       "        vertical-align: middle;\n",
       "    }\n",
       "\n",
       "    .dataframe tbody tr th {\n",
       "        vertical-align: top;\n",
       "    }\n",
       "\n",
       "    .dataframe thead th {\n",
       "        text-align: right;\n",
       "    }\n",
       "</style>\n",
       "<table border=\"1\" class=\"dataframe\">\n",
       "  <thead>\n",
       "    <tr style=\"text-align: right;\">\n",
       "      <th></th>\n",
       "      <th>age</th>\n",
       "      <th>weight</th>\n",
       "      <th>height</th>\n",
       "      <th>ageGroup</th>\n",
       "      <th>income</th>\n",
       "      <th>drinksperday</th>\n",
       "      <th>sleephours</th>\n",
       "      <th>bmi</th>\n",
       "    </tr>\n",
       "  </thead>\n",
       "  <tbody>\n",
       "    <tr>\n",
       "      <th>count</th>\n",
       "      <td>300382.000000</td>\n",
       "      <td>300382.000000</td>\n",
       "      <td>300382.000000</td>\n",
       "      <td>300382.000000</td>\n",
       "      <td>300382.000000</td>\n",
       "      <td>300382.000000</td>\n",
       "      <td>300382.000000</td>\n",
       "      <td>300382.000000</td>\n",
       "    </tr>\n",
       "    <tr>\n",
       "      <th>mean</th>\n",
       "      <td>54.226871</td>\n",
       "      <td>183.395357</td>\n",
       "      <td>67.190438</td>\n",
       "      <td>4.339578</td>\n",
       "      <td>6.098202</td>\n",
       "      <td>43.697285</td>\n",
       "      <td>7.581576</td>\n",
       "      <td>2846.427492</td>\n",
       "    </tr>\n",
       "    <tr>\n",
       "      <th>std</th>\n",
       "      <td>17.293750</td>\n",
       "      <td>46.257358</td>\n",
       "      <td>4.170497</td>\n",
       "      <td>1.587913</td>\n",
       "      <td>2.066844</td>\n",
       "      <td>149.603389</td>\n",
       "      <td>6.220365</td>\n",
       "      <td>635.969286</td>\n",
       "    </tr>\n",
       "    <tr>\n",
       "      <th>min</th>\n",
       "      <td>18.000000</td>\n",
       "      <td>60.000000</td>\n",
       "      <td>36.000000</td>\n",
       "      <td>1.000000</td>\n",
       "      <td>1.000000</td>\n",
       "      <td>0.000000</td>\n",
       "      <td>1.000000</td>\n",
       "      <td>1202.000000</td>\n",
       "    </tr>\n",
       "    <tr>\n",
       "      <th>25%</th>\n",
       "      <td>40.000000</td>\n",
       "      <td>150.000000</td>\n",
       "      <td>64.000000</td>\n",
       "      <td>3.000000</td>\n",
       "      <td>5.000000</td>\n",
       "      <td>0.000000</td>\n",
       "      <td>6.000000</td>\n",
       "      <td>2414.000000</td>\n",
       "    </tr>\n",
       "    <tr>\n",
       "      <th>50%</th>\n",
       "      <td>56.000000</td>\n",
       "      <td>180.000000</td>\n",
       "      <td>67.000000</td>\n",
       "      <td>5.000000</td>\n",
       "      <td>7.000000</td>\n",
       "      <td>3.000000</td>\n",
       "      <td>7.000000</td>\n",
       "      <td>2741.000000</td>\n",
       "    </tr>\n",
       "    <tr>\n",
       "      <th>75%</th>\n",
       "      <td>68.000000</td>\n",
       "      <td>210.000000</td>\n",
       "      <td>70.000000</td>\n",
       "      <td>6.000000</td>\n",
       "      <td>8.000000</td>\n",
       "      <td>29.000000</td>\n",
       "      <td>8.000000</td>\n",
       "      <td>3162.000000</td>\n",
       "    </tr>\n",
       "    <tr>\n",
       "      <th>max</th>\n",
       "      <td>80.000000</td>\n",
       "      <td>630.000000</td>\n",
       "      <td>92.000000</td>\n",
       "      <td>6.000000</td>\n",
       "      <td>8.000000</td>\n",
       "      <td>900.000000</td>\n",
       "      <td>99.000000</td>\n",
       "      <td>9843.000000</td>\n",
       "    </tr>\n",
       "  </tbody>\n",
       "</table>\n",
       "</div>"
      ],
      "text/plain": [
       "                 age         weight         height       ageGroup  \\\n",
       "count  300382.000000  300382.000000  300382.000000  300382.000000   \n",
       "mean       54.226871     183.395357      67.190438       4.339578   \n",
       "std        17.293750      46.257358       4.170497       1.587913   \n",
       "min        18.000000      60.000000      36.000000       1.000000   \n",
       "25%        40.000000     150.000000      64.000000       3.000000   \n",
       "50%        56.000000     180.000000      67.000000       5.000000   \n",
       "75%        68.000000     210.000000      70.000000       6.000000   \n",
       "max        80.000000     630.000000      92.000000       6.000000   \n",
       "\n",
       "              income   drinksperday     sleephours            bmi  \n",
       "count  300382.000000  300382.000000  300382.000000  300382.000000  \n",
       "mean        6.098202      43.697285       7.581576    2846.427492  \n",
       "std         2.066844     149.603389       6.220365     635.969286  \n",
       "min         1.000000       0.000000       1.000000    1202.000000  \n",
       "25%         5.000000       0.000000       6.000000    2414.000000  \n",
       "50%         7.000000       3.000000       7.000000    2741.000000  \n",
       "75%         8.000000      29.000000       8.000000    3162.000000  \n",
       "max         8.000000     900.000000      99.000000    9843.000000  "
      ]
     },
     "execution_count": 20,
     "metadata": {},
     "output_type": "execute_result"
    }
   ],
   "source": [
    "df3.describe()"
   ]
  },
  {
   "cell_type": "code",
   "execution_count": 21,
   "metadata": {},
   "outputs": [
    {
     "name": "stdout",
     "output_type": "stream",
     "text": [
      "Index(['age', 'gender', 'weight', 'height', 'ageGroup', 'genhealth',\n",
      "       'asthma_ever', 'asthma', 'skincancer', 'othercancer', 'copd',\n",
      "       'arthritis', 'depression', 'kidneydis', 'diabetes', 'maritaldetail',\n",
      "       'married', 'education', 'veteran', 'income', 'state',\n",
      "       'physicalactivity', 'childcnt', 'drinksperday', 'sleephours',\n",
      "       'employment', 'bmi', 'bmicategory', 'smokertype'],\n",
      "      dtype='object')\n",
      "\n",
      "shape (300382, 29)\n"
     ]
    },
    {
     "data": {
      "text/plain": [
       "count     40785\n",
       "unique        3\n",
       "top         yes\n",
       "freq      28591\n",
       "Name: asthma, dtype: object"
      ]
     },
     "execution_count": 21,
     "metadata": {},
     "output_type": "execute_result"
    }
   ],
   "source": [
    "print(df3.columns)\n",
    "print(\"\\nshape\",df3.shape)\n",
    "df3.asthma.describe()"
   ]
  },
  {
   "cell_type": "code",
   "execution_count": 22,
   "metadata": {},
   "outputs": [
    {
     "data": {
      "text/plain": [
       "age                      0\n",
       "gender                   0\n",
       "weight                   0\n",
       "height                   0\n",
       "ageGroup                 0\n",
       "genhealth                0\n",
       "asthma_ever              0\n",
       "asthma              259597\n",
       "skincancer               0\n",
       "othercancer              0\n",
       "copd                     0\n",
       "arthritis                0\n",
       "depression               0\n",
       "kidneydis                0\n",
       "diabetes                 0\n",
       "maritaldetail            0\n",
       "married                  0\n",
       "education                0\n",
       "veteran                  0\n",
       "income                   0\n",
       "state                    0\n",
       "physicalactivity         0\n",
       "childcnt                 0\n",
       "drinksperday             0\n",
       "sleephours               0\n",
       "employment               0\n",
       "bmi                      0\n",
       "bmicategory              0\n",
       "smokertype               0\n",
       "dtype: int64"
      ]
     },
     "execution_count": 22,
     "metadata": {},
     "output_type": "execute_result"
    }
   ],
   "source": [
    "df3.isnull().sum()"
   ]
  },
  {
   "cell_type": "code",
   "execution_count": 23,
   "metadata": {},
   "outputs": [
    {
     "name": "stdout",
     "output_type": "stream",
     "text": [
      "count     40785\n",
      "unique        3\n",
      "top         yes\n",
      "freq      28591\n",
      "Name: asthma, dtype: object\n",
      "\n",
      "unique values: ['nan' 'no' 'unknown' 'yes']\n",
      "\n",
      "null values: 259597 259597\n",
      "no         11109\n",
      "unknown     1085\n",
      "yes        28591\n",
      "Name: asthma, dtype: int64\n",
      "After filling null values:\n",
      "\n",
      "unique values: ['no' 'unknown' 'yes']\n",
      "\n",
      "null values: 0 0\n",
      "no         270706\n",
      "yes         28591\n",
      "unknown      1085\n",
      "Name: asthma, dtype: int64\n"
     ]
    }
   ],
   "source": [
    "var = 'asthma'\n",
    "\n",
    "print(df3[var].describe())\n",
    "print(\"\\nunique values:\",np.sort(list(df3[var].unique())))\n",
    "print(\"\\nnull values:\",df3[var].isna().sum(), df3[var].isnull().sum())\n",
    "print(df3[var].value_counts().sort_index())\n",
    "\n",
    "df3.fillna(value='no', inplace=True)\n",
    "\n",
    "print(\"After filling null values:\")\n",
    "print(\"\\nunique values:\",np.sort(list(df3[var].unique())))\n",
    "print(\"\\nnull values:\",df3[var].isna().sum(), df3[var].isnull().sum())\n",
    "\n",
    "print(df3[var].value_counts())"
   ]
  },
  {
   "cell_type": "code",
   "execution_count": 24,
   "metadata": {},
   "outputs": [
    {
     "name": "stdout",
     "output_type": "stream",
     "text": [
      "          age  gender  weight  height  ageGroup  genhealth  asthma_ever  \\\n",
      "0       False   False   False   False     False      False        False   \n",
      "5       False   False   False   False     False      False        False   \n",
      "6       False   False   False   False     False      False        False   \n",
      "7       False   False   False   False     False      False        False   \n",
      "8       False   False   False   False     False      False        False   \n",
      "...       ...     ...     ...     ...       ...        ...          ...   \n",
      "401950  False   False   False   False     False      False        False   \n",
      "401952  False   False   False   False     False      False        False   \n",
      "401954  False   False   False   False     False      False        False   \n",
      "401955  False   False   False   False     False      False        False   \n",
      "401957  False   False   False   False     False      False        False   \n",
      "\n",
      "        asthma  skincancer  othercancer  ...  income  state  physicalactivity  \\\n",
      "0        False       False        False  ...   False  False             False   \n",
      "5        False       False        False  ...   False  False             False   \n",
      "6        False       False        False  ...   False  False             False   \n",
      "7        False       False        False  ...   False  False             False   \n",
      "8        False       False        False  ...   False  False             False   \n",
      "...        ...         ...          ...  ...     ...    ...               ...   \n",
      "401950   False       False        False  ...   False  False             False   \n",
      "401952   False       False        False  ...   False  False             False   \n",
      "401954   False       False        False  ...   False  False             False   \n",
      "401955   False       False        False  ...   False  False             False   \n",
      "401957   False       False        False  ...   False  False             False   \n",
      "\n",
      "        childcnt  drinksperday  sleephours  employment    bmi  bmicategory  \\\n",
      "0          False         False       False       False  False        False   \n",
      "5          False         False       False       False  False        False   \n",
      "6          False         False       False       False  False        False   \n",
      "7          False         False       False       False  False        False   \n",
      "8          False         False       False       False  False        False   \n",
      "...          ...           ...         ...         ...    ...          ...   \n",
      "401950     False         False       False       False  False        False   \n",
      "401952     False         False       False       False  False        False   \n",
      "401954     False         False       False       False  False        False   \n",
      "401955     False         False       False       False  False        False   \n",
      "401957     False         False       False       False  False        False   \n",
      "\n",
      "        smokertype  \n",
      "0            False  \n",
      "5            False  \n",
      "6            False  \n",
      "7            False  \n",
      "8            False  \n",
      "...            ...  \n",
      "401950       False  \n",
      "401952       False  \n",
      "401954       False  \n",
      "401955       False  \n",
      "401957       False  \n",
      "\n",
      "[300382 rows x 29 columns]\n"
     ]
    },
    {
     "data": {
      "text/plain": [
       "age                 0\n",
       "gender              0\n",
       "weight              0\n",
       "height              0\n",
       "ageGroup            0\n",
       "genhealth           0\n",
       "asthma_ever         0\n",
       "asthma              0\n",
       "skincancer          0\n",
       "othercancer         0\n",
       "copd                0\n",
       "arthritis           0\n",
       "depression          0\n",
       "kidneydis           0\n",
       "diabetes            0\n",
       "maritaldetail       0\n",
       "married             0\n",
       "education           0\n",
       "veteran             0\n",
       "income              0\n",
       "state               0\n",
       "physicalactivity    0\n",
       "childcnt            0\n",
       "drinksperday        0\n",
       "sleephours          0\n",
       "employment          0\n",
       "bmi                 0\n",
       "bmicategory         0\n",
       "smokertype          0\n",
       "dtype: int64"
      ]
     },
     "execution_count": 24,
     "metadata": {},
     "output_type": "execute_result"
    }
   ],
   "source": [
    "print(df3.isna())\n",
    "df3.isnull().sum()"
   ]
  },
  {
   "cell_type": "code",
   "execution_count": 25,
   "metadata": {},
   "outputs": [],
   "source": [
    "# I have already generated and started analyzing, so I don't want to overwrite the data.\n",
    "# df3.to_csv('/home/arun/HPCC-covid19/LLCP/llcpAdup1.csv', index=False)\n"
   ]
  },
  {
   "cell_type": "code",
   "execution_count": 26,
   "metadata": {},
   "outputs": [
    {
     "data": {
      "image/png": "[encoded data removed]",
      "text/plain": [
       "<Figure size 432x288 with 1 Axes>"
      ]
     },
     "metadata": {
      "needs_background": "light"
     },
     "output_type": "display_data"
    }
   ],
   "source": [
    "plt.scatter(df3.height, df3.weight)\n",
    "plt.xlabel('height')\n",
    "plt.ylabel('weight')\n",
    "plt.show()"
   ]
  },
  {
   "cell_type": "code",
   "execution_count": null,
   "metadata": {},
   "outputs": [],
   "source": []
  },
  {
   "cell_type": "markdown",
   "metadata": {},
   "source": [
    "# Playground 2 \n",
    "with final dataset"
   ]
  },
  {
   "cell_type": "code",
   "execution_count": 27,
   "metadata": {},
   "outputs": [
    {
     "data": {
      "text/plain": [
       "age                 0\n",
       "gender              0\n",
       "weight              0\n",
       "height              0\n",
       "ageGroup            0\n",
       "genhealth           0\n",
       "asthma_ever         0\n",
       "asthma              0\n",
       "skincancer          0\n",
       "othercancer         0\n",
       "copd                0\n",
       "arthritis           0\n",
       "depression          0\n",
       "kidneydis           0\n",
       "diabetes            0\n",
       "maritaldetail       0\n",
       "married             0\n",
       "education           0\n",
       "veteran             0\n",
       "income              0\n",
       "state               0\n",
       "physicalactivity    0\n",
       "childcnt            0\n",
       "drinksperday        0\n",
       "sleephours          0\n",
       "employment          0\n",
       "bmi                 0\n",
       "bmicategory         0\n",
       "smokertype          0\n",
       "dtype: int64"
      ]
     },
     "execution_count": 27,
     "metadata": {},
     "output_type": "execute_result"
    }
   ],
   "source": [
    "df3.isnull().sum()"
   ]
  },
  {
   "cell_type": "code",
   "execution_count": 28,
   "metadata": {},
   "outputs": [
    {
     "data": {
      "text/plain": [
       "count    300382.000000\n",
       "mean         43.697285\n",
       "std         149.603389\n",
       "min           0.000000\n",
       "25%           0.000000\n",
       "50%           3.000000\n",
       "75%          29.000000\n",
       "max         900.000000\n",
       "Name: drinksperday, dtype: float64"
      ]
     },
     "execution_count": 28,
     "metadata": {},
     "output_type": "execute_result"
    }
   ],
   "source": [
    "df3.drinksperday.describe()"
   ]
  },
  {
   "cell_type": "code",
   "execution_count": 30,
   "metadata": {},
   "outputs": [
    {
     "data": {
      "text/plain": [
       "array([1202., 1213., 1216., ..., 9397., 9466., 9843.])"
      ]
     },
     "execution_count": 30,
     "metadata": {},
     "output_type": "execute_result"
    }
   ],
   "source": [
    "np.sort(df3['bmi'].unique())"
   ]
  }
 ],
 "metadata": {
  "kernelspec": {
   "display_name": "Python 3.6.9 64-bit",
   "language": "python",
   "name": "python3"
  },
  "language_info": {
   "codemirror_mode": {
    "name": "ipython",
    "version": 3
   },
   "file_extension": ".py",
   "mimetype": "text/x-python",
   "name": "python",
   "nbconvert_exporter": "python",
   "pygments_lexer": "ipython3",
   "version": "3.6.9"
  },
  "vscode": {
   "interpreter": {
    "hash": "31f2aee4e71d21fbe5cf8b01ff0e069b9275f58929596ceb00d14d90e3e16cd6"
   }
  }
 },
 "nbformat": 4,
 "nbformat_minor": 4
}
